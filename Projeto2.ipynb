{
 "cells": [
  {
   "cell_type": "code",
   "execution_count": 1,
   "id": "4fbbd696-9107-41e2-9289-af678437f84a",
   "metadata": {},
   "outputs": [],
   "source": [
    "import pandas as pd"
   ]
  },
  {
   "cell_type": "code",
   "execution_count": 2,
   "id": "fe133f39-8099-4e4e-8a6a-f84fafe87774",
   "metadata": {
    "tags": []
   },
   "outputs": [],
   "source": [
    "df = pd.read_csv('output.csv',  index_col=[0])"
   ]
  },
  {
   "cell_type": "code",
   "execution_count": 3,
   "id": "ad6e4932-48b6-485f-bf8c-ac68926dce08",
   "metadata": {},
   "outputs": [
    {
     "data": {
      "text/html": [
       "<div>\n",
       "<style scoped>\n",
       "    .dataframe tbody tr th:only-of-type {\n",
       "        vertical-align: middle;\n",
       "    }\n",
       "\n",
       "    .dataframe tbody tr th {\n",
       "        vertical-align: top;\n",
       "    }\n",
       "\n",
       "    .dataframe thead th {\n",
       "        text-align: right;\n",
       "    }\n",
       "</style>\n",
       "<table border=\"1\" class=\"dataframe\">\n",
       "  <thead>\n",
       "    <tr style=\"text-align: right;\">\n",
       "      <th></th>\n",
       "      <th>AQI</th>\n",
       "      <th>Category</th>\n",
       "      <th>Defining Parameter</th>\n",
       "      <th>Number of Sites Reporting</th>\n",
       "      <th>city_ascii</th>\n",
       "      <th>state_name</th>\n",
       "      <th>lat</th>\n",
       "      <th>lng</th>\n",
       "      <th>population</th>\n",
       "      <th>density</th>\n",
       "      <th>Year</th>\n",
       "    </tr>\n",
       "  </thead>\n",
       "  <tbody>\n",
       "    <tr>\n",
       "      <th>0</th>\n",
       "      <td>43</td>\n",
       "      <td>Good</td>\n",
       "      <td>Ozone</td>\n",
       "      <td>1</td>\n",
       "      <td>Flagstaff</td>\n",
       "      <td>Arizona</td>\n",
       "      <td>35.1872</td>\n",
       "      <td>-111.6194</td>\n",
       "      <td>79624.0</td>\n",
       "      <td>428.0</td>\n",
       "      <td>2022</td>\n",
       "    </tr>\n",
       "    <tr>\n",
       "      <th>1</th>\n",
       "      <td>42</td>\n",
       "      <td>Good</td>\n",
       "      <td>Ozone</td>\n",
       "      <td>2</td>\n",
       "      <td>Flagstaff</td>\n",
       "      <td>Arizona</td>\n",
       "      <td>35.1872</td>\n",
       "      <td>-111.6194</td>\n",
       "      <td>79624.0</td>\n",
       "      <td>428.0</td>\n",
       "      <td>2022</td>\n",
       "    </tr>\n",
       "    <tr>\n",
       "      <th>2</th>\n",
       "      <td>43</td>\n",
       "      <td>Good</td>\n",
       "      <td>Ozone</td>\n",
       "      <td>2</td>\n",
       "      <td>Flagstaff</td>\n",
       "      <td>Arizona</td>\n",
       "      <td>35.1872</td>\n",
       "      <td>-111.6194</td>\n",
       "      <td>79624.0</td>\n",
       "      <td>428.0</td>\n",
       "      <td>2022</td>\n",
       "    </tr>\n",
       "    <tr>\n",
       "      <th>3</th>\n",
       "      <td>42</td>\n",
       "      <td>Good</td>\n",
       "      <td>Ozone</td>\n",
       "      <td>2</td>\n",
       "      <td>Flagstaff</td>\n",
       "      <td>Arizona</td>\n",
       "      <td>35.1872</td>\n",
       "      <td>-111.6194</td>\n",
       "      <td>79624.0</td>\n",
       "      <td>428.0</td>\n",
       "      <td>2022</td>\n",
       "    </tr>\n",
       "    <tr>\n",
       "      <th>4</th>\n",
       "      <td>43</td>\n",
       "      <td>Good</td>\n",
       "      <td>Ozone</td>\n",
       "      <td>2</td>\n",
       "      <td>Flagstaff</td>\n",
       "      <td>Arizona</td>\n",
       "      <td>35.1872</td>\n",
       "      <td>-111.6194</td>\n",
       "      <td>79624.0</td>\n",
       "      <td>428.0</td>\n",
       "      <td>2022</td>\n",
       "    </tr>\n",
       "  </tbody>\n",
       "</table>\n",
       "</div>"
      ],
      "text/plain": [
       "   AQI Category Defining Parameter  Number of Sites Reporting city_ascii  \\\n",
       "0   43     Good              Ozone                          1  Flagstaff   \n",
       "1   42     Good              Ozone                          2  Flagstaff   \n",
       "2   43     Good              Ozone                          2  Flagstaff   \n",
       "3   42     Good              Ozone                          2  Flagstaff   \n",
       "4   43     Good              Ozone                          2  Flagstaff   \n",
       "\n",
       "  state_name      lat       lng  population  density  Year  \n",
       "0    Arizona  35.1872 -111.6194     79624.0    428.0  2022  \n",
       "1    Arizona  35.1872 -111.6194     79624.0    428.0  2022  \n",
       "2    Arizona  35.1872 -111.6194     79624.0    428.0  2022  \n",
       "3    Arizona  35.1872 -111.6194     79624.0    428.0  2022  \n",
       "4    Arizona  35.1872 -111.6194     79624.0    428.0  2022  "
      ]
     },
     "execution_count": 3,
     "metadata": {},
     "output_type": "execute_result"
    }
   ],
   "source": [
    "df.head()"
   ]
  },
  {
   "cell_type": "markdown",
   "id": "42ba8822-643b-4271-8a18-66e315d174cc",
   "metadata": {},
   "source": [
    "Encoding categorical data: `Defining Parameter`, `city_ascii` and `state_name`."
   ]
  },
  {
   "cell_type": "code",
   "execution_count": 4,
   "id": "4cfb45b2-4cb2-4b5f-8e48-d16069d8aede",
   "metadata": {},
   "outputs": [
    {
     "data": {
      "text/html": [
       "<div>\n",
       "<style scoped>\n",
       "    .dataframe tbody tr th:only-of-type {\n",
       "        vertical-align: middle;\n",
       "    }\n",
       "\n",
       "    .dataframe tbody tr th {\n",
       "        vertical-align: top;\n",
       "    }\n",
       "\n",
       "    .dataframe thead th {\n",
       "        text-align: right;\n",
       "    }\n",
       "</style>\n",
       "<table border=\"1\" class=\"dataframe\">\n",
       "  <thead>\n",
       "    <tr style=\"text-align: right;\">\n",
       "      <th></th>\n",
       "      <th>AQI</th>\n",
       "      <th>Category</th>\n",
       "      <th>Defining Parameter</th>\n",
       "      <th>Number of Sites Reporting</th>\n",
       "      <th>city_ascii</th>\n",
       "      <th>state_name</th>\n",
       "      <th>lat</th>\n",
       "      <th>lng</th>\n",
       "      <th>population</th>\n",
       "      <th>density</th>\n",
       "      <th>Year</th>\n",
       "    </tr>\n",
       "  </thead>\n",
       "  <tbody>\n",
       "    <tr>\n",
       "      <th>0</th>\n",
       "      <td>43</td>\n",
       "      <td>Good</td>\n",
       "      <td>2</td>\n",
       "      <td>1</td>\n",
       "      <td>25</td>\n",
       "      <td>1</td>\n",
       "      <td>35.1872</td>\n",
       "      <td>-111.6194</td>\n",
       "      <td>79624.0</td>\n",
       "      <td>428.0</td>\n",
       "      <td>2022</td>\n",
       "    </tr>\n",
       "    <tr>\n",
       "      <th>1</th>\n",
       "      <td>42</td>\n",
       "      <td>Good</td>\n",
       "      <td>2</td>\n",
       "      <td>2</td>\n",
       "      <td>25</td>\n",
       "      <td>1</td>\n",
       "      <td>35.1872</td>\n",
       "      <td>-111.6194</td>\n",
       "      <td>79624.0</td>\n",
       "      <td>428.0</td>\n",
       "      <td>2022</td>\n",
       "    </tr>\n",
       "    <tr>\n",
       "      <th>2</th>\n",
       "      <td>43</td>\n",
       "      <td>Good</td>\n",
       "      <td>2</td>\n",
       "      <td>2</td>\n",
       "      <td>25</td>\n",
       "      <td>1</td>\n",
       "      <td>35.1872</td>\n",
       "      <td>-111.6194</td>\n",
       "      <td>79624.0</td>\n",
       "      <td>428.0</td>\n",
       "      <td>2022</td>\n",
       "    </tr>\n",
       "    <tr>\n",
       "      <th>3</th>\n",
       "      <td>42</td>\n",
       "      <td>Good</td>\n",
       "      <td>2</td>\n",
       "      <td>2</td>\n",
       "      <td>25</td>\n",
       "      <td>1</td>\n",
       "      <td>35.1872</td>\n",
       "      <td>-111.6194</td>\n",
       "      <td>79624.0</td>\n",
       "      <td>428.0</td>\n",
       "      <td>2022</td>\n",
       "    </tr>\n",
       "    <tr>\n",
       "      <th>4</th>\n",
       "      <td>43</td>\n",
       "      <td>Good</td>\n",
       "      <td>2</td>\n",
       "      <td>2</td>\n",
       "      <td>25</td>\n",
       "      <td>1</td>\n",
       "      <td>35.1872</td>\n",
       "      <td>-111.6194</td>\n",
       "      <td>79624.0</td>\n",
       "      <td>428.0</td>\n",
       "      <td>2022</td>\n",
       "    </tr>\n",
       "  </tbody>\n",
       "</table>\n",
       "</div>"
      ],
      "text/plain": [
       "   AQI Category  Defining Parameter  Number of Sites Reporting  city_ascii  \\\n",
       "0   43     Good                   2                          1          25   \n",
       "1   42     Good                   2                          2          25   \n",
       "2   43     Good                   2                          2          25   \n",
       "3   42     Good                   2                          2          25   \n",
       "4   43     Good                   2                          2          25   \n",
       "\n",
       "   state_name      lat       lng  population  density  Year  \n",
       "0           1  35.1872 -111.6194     79624.0    428.0  2022  \n",
       "1           1  35.1872 -111.6194     79624.0    428.0  2022  \n",
       "2           1  35.1872 -111.6194     79624.0    428.0  2022  \n",
       "3           1  35.1872 -111.6194     79624.0    428.0  2022  \n",
       "4           1  35.1872 -111.6194     79624.0    428.0  2022  "
      ]
     },
     "execution_count": 4,
     "metadata": {},
     "output_type": "execute_result"
    }
   ],
   "source": [
    "#df['Category'] = df['Category'].astype('category')\n",
    "#df['Category'] = df['Category'].cat.codes\n",
    "df['Defining Parameter'] = df['Defining Parameter'].astype('category')\n",
    "df['Defining Parameter'] = df['Defining Parameter'].cat.codes\n",
    "df['city_ascii'] = df['city_ascii'].astype('category')\n",
    "df['city_ascii'] = df['city_ascii'].cat.codes\n",
    "df['state_name'] = df['state_name'].astype('category')\n",
    "df['state_name'] = df['state_name'].cat.codes\n",
    "df.head()"
   ]
  },
  {
   "cell_type": "markdown",
   "id": "aba800d3-344e-47c6-9840-92f4d579d5bf",
   "metadata": {},
   "source": [
    "### Separar os dados para treino, teste e validação\n",
    "Aplicaremos a função `train_test_split` duas vezes para obter os três conjuntos: treino, teste e validação."
   ]
  },
  {
   "cell_type": "code",
   "execution_count": 5,
   "id": "8f83e780-fcad-4e82-9fba-c7064bc91eeb",
   "metadata": {},
   "outputs": [],
   "source": [
    "from sklearn.model_selection import train_test_split"
   ]
  },
  {
   "cell_type": "code",
   "execution_count": 6,
   "id": "74c87af2-1e17-493a-b71f-873c694c2137",
   "metadata": {},
   "outputs": [],
   "source": [
    "y = df.Category\n",
    "X = df.drop('Category', axis=1)\n",
    "train_ratio = 0.7\n",
    "test_ratio = 0.20\n",
    "validation_ratio = 0.10\n",
    "X_train, X_test, y_train, y_test = train_test_split(X, y, train_size=train_ratio, random_state=1)\n",
    "X_test, X_valid, y_test, y_valid = train_test_split(X_test, y_test, test_size=validation_ratio/(train_ratio+test_ratio))"
   ]
  },
  {
   "cell_type": "code",
   "execution_count": 7,
   "id": "a0005d89-3c49-4d53-92a2-c2f1574df254",
   "metadata": {},
   "outputs": [],
   "source": [
    "# iniciando o MLFlow\n",
    "import mlflow"
   ]
  },
  {
   "cell_type": "code",
   "execution_count": null,
   "id": "e496487e-a9a5-405e-a2fa-26f566cc55e3",
   "metadata": {
    "tags": []
   },
   "outputs": [],
   "source": [
    "mlflow.set_experiment('air-quality-category')"
   ]
  },
  {
   "cell_type": "markdown",
   "id": "e4827e55-307e-44ef-a137-218056707b33",
   "metadata": {},
   "source": [
    "### Treinamentos"
   ]
  },
  {
   "cell_type": "code",
   "execution_count": 8,
   "id": "779948cd-fc9a-43dd-abc3-70708b9870e6",
   "metadata": {},
   "outputs": [],
   "source": [
    "from sklearn.neighbors import KNeighborsClassifier\n",
    "from sklearn.naive_bayes import GaussianNB\n",
    "from sklearn.neural_network import MLPClassifier\n",
    "from sklearn.ensemble import RandomForestClassifier\n",
    "import numpy as np"
   ]
  },
  {
   "cell_type": "code",
   "execution_count": 9,
   "id": "ee83ae5b-eea5-41ce-b090-f31a4e744890",
   "metadata": {},
   "outputs": [],
   "source": [
    "from sklearn.metrics import confusion_matrix, accuracy_score, precision_score, f1_score\n",
    "def evaluate_model(classifier):\n",
    "    acc = accuracy_score(y_test, classifier.predict(X_test))\n",
    "    print(\"Test Accuracy: \", acc)\n",
    "    precision =  precision_score(y_test, classifier.predict(X_test), average='weighted')\n",
    "    print(\"Test Precision: \", precision)\n",
    "    f1 = f1_score(y_test, classifier.predict(X_test), average='weighted')\n",
    "    print(\"Test F1 score: \", f1)\n",
    "    print(\"Test Confusion Matrix:\")\n",
    "    print(confusion_matrix(y_test, classifier.predict(X_test)))\n",
    "    return acc, precision, f1"
   ]
  },
  {
   "cell_type": "code",
   "execution_count": 10,
   "id": "f4a18246-b64f-4f0b-a2cb-f64560718b92",
   "metadata": {
    "tags": []
   },
   "outputs": [
    {
     "data": {
      "text/plain": [
       "<ActiveRun: >"
      ]
     },
     "execution_count": 10,
     "metadata": {},
     "output_type": "execute_result"
    }
   ],
   "source": [
    "mlflow.start_run(experiment_id='1', run_name='air-quality-category')"
   ]
  },
  {
   "cell_type": "markdown",
   "id": "be0b8a4f-5323-472b-aaad-d591f6f555ce",
   "metadata": {},
   "source": [
    "#### K-nearest neighbors"
   ]
  },
  {
   "cell_type": "code",
   "execution_count": 11,
   "id": "eaa811e0-bcae-40e9-8b57-8b4ca6e953b7",
   "metadata": {
    "tags": []
   },
   "outputs": [
    {
     "data": {
      "text/html": [
       "<style>#sk-container-id-1 {color: black;background-color: white;}#sk-container-id-1 pre{padding: 0;}#sk-container-id-1 div.sk-toggleable {background-color: white;}#sk-container-id-1 label.sk-toggleable__label {cursor: pointer;display: block;width: 100%;margin-bottom: 0;padding: 0.3em;box-sizing: border-box;text-align: center;}#sk-container-id-1 label.sk-toggleable__label-arrow:before {content: \"▸\";float: left;margin-right: 0.25em;color: #696969;}#sk-container-id-1 label.sk-toggleable__label-arrow:hover:before {color: black;}#sk-container-id-1 div.sk-estimator:hover label.sk-toggleable__label-arrow:before {color: black;}#sk-container-id-1 div.sk-toggleable__content {max-height: 0;max-width: 0;overflow: hidden;text-align: left;background-color: #f0f8ff;}#sk-container-id-1 div.sk-toggleable__content pre {margin: 0.2em;color: black;border-radius: 0.25em;background-color: #f0f8ff;}#sk-container-id-1 input.sk-toggleable__control:checked~div.sk-toggleable__content {max-height: 200px;max-width: 100%;overflow: auto;}#sk-container-id-1 input.sk-toggleable__control:checked~label.sk-toggleable__label-arrow:before {content: \"▾\";}#sk-container-id-1 div.sk-estimator input.sk-toggleable__control:checked~label.sk-toggleable__label {background-color: #d4ebff;}#sk-container-id-1 div.sk-label input.sk-toggleable__control:checked~label.sk-toggleable__label {background-color: #d4ebff;}#sk-container-id-1 input.sk-hidden--visually {border: 0;clip: rect(1px 1px 1px 1px);clip: rect(1px, 1px, 1px, 1px);height: 1px;margin: -1px;overflow: hidden;padding: 0;position: absolute;width: 1px;}#sk-container-id-1 div.sk-estimator {font-family: monospace;background-color: #f0f8ff;border: 1px dotted black;border-radius: 0.25em;box-sizing: border-box;margin-bottom: 0.5em;}#sk-container-id-1 div.sk-estimator:hover {background-color: #d4ebff;}#sk-container-id-1 div.sk-parallel-item::after {content: \"\";width: 100%;border-bottom: 1px solid gray;flex-grow: 1;}#sk-container-id-1 div.sk-label:hover label.sk-toggleable__label {background-color: #d4ebff;}#sk-container-id-1 div.sk-serial::before {content: \"\";position: absolute;border-left: 1px solid gray;box-sizing: border-box;top: 0;bottom: 0;left: 50%;z-index: 0;}#sk-container-id-1 div.sk-serial {display: flex;flex-direction: column;align-items: center;background-color: white;padding-right: 0.2em;padding-left: 0.2em;position: relative;}#sk-container-id-1 div.sk-item {position: relative;z-index: 1;}#sk-container-id-1 div.sk-parallel {display: flex;align-items: stretch;justify-content: center;background-color: white;position: relative;}#sk-container-id-1 div.sk-item::before, #sk-container-id-1 div.sk-parallel-item::before {content: \"\";position: absolute;border-left: 1px solid gray;box-sizing: border-box;top: 0;bottom: 0;left: 50%;z-index: -1;}#sk-container-id-1 div.sk-parallel-item {display: flex;flex-direction: column;z-index: 1;position: relative;background-color: white;}#sk-container-id-1 div.sk-parallel-item:first-child::after {align-self: flex-end;width: 50%;}#sk-container-id-1 div.sk-parallel-item:last-child::after {align-self: flex-start;width: 50%;}#sk-container-id-1 div.sk-parallel-item:only-child::after {width: 0;}#sk-container-id-1 div.sk-dashed-wrapped {border: 1px dashed gray;margin: 0 0.4em 0.5em 0.4em;box-sizing: border-box;padding-bottom: 0.4em;background-color: white;}#sk-container-id-1 div.sk-label label {font-family: monospace;font-weight: bold;display: inline-block;line-height: 1.2em;}#sk-container-id-1 div.sk-label-container {text-align: center;}#sk-container-id-1 div.sk-container {/* jupyter's `normalize.less` sets `[hidden] { display: none; }` but bootstrap.min.css set `[hidden] { display: none !important; }` so we also need the `!important` here to be able to override the default hidden behavior on the sphinx rendered scikit-learn.org. See: https://github.com/scikit-learn/scikit-learn/issues/21755 */display: inline-block !important;position: relative;}#sk-container-id-1 div.sk-text-repr-fallback {display: none;}</style><div id=\"sk-container-id-1\" class=\"sk-top-container\"><div class=\"sk-text-repr-fallback\"><pre>KNeighborsClassifier(n_neighbors=3)</pre><b>In a Jupyter environment, please rerun this cell to show the HTML representation or trust the notebook. <br />On GitHub, the HTML representation is unable to render, please try loading this page with nbviewer.org.</b></div><div class=\"sk-container\" hidden><div class=\"sk-item\"><div class=\"sk-estimator sk-toggleable\"><input class=\"sk-toggleable__control sk-hidden--visually\" id=\"sk-estimator-id-1\" type=\"checkbox\" checked><label for=\"sk-estimator-id-1\" class=\"sk-toggleable__label sk-toggleable__label-arrow\">KNeighborsClassifier</label><div class=\"sk-toggleable__content\"><pre>KNeighborsClassifier(n_neighbors=3)</pre></div></div></div></div></div>"
      ],
      "text/plain": [
       "KNeighborsClassifier(n_neighbors=3)"
      ]
     },
     "execution_count": 11,
     "metadata": {},
     "output_type": "execute_result"
    }
   ],
   "source": [
    "# create and fit knn\n",
    "knn = KNeighborsClassifier(n_neighbors=3)\n",
    "knn.fit(X_train, y_train)"
   ]
  },
  {
   "cell_type": "code",
   "execution_count": 12,
   "id": "7ededdcf-787a-490c-99fc-7c694747c071",
   "metadata": {},
   "outputs": [
    {
     "name": "stdout",
     "output_type": "stream",
     "text": [
      "Test Accuracy:  0.9949940200382431\n",
      "Test Precision:  0.9949879714710038\n",
      "Test F1 score:  0.994990405864923\n",
      "Test Confusion Matrix:\n",
      "[[177421      0    218      0      0      0]\n",
      " [     0    135      0      2      0      4]\n",
      " [   306      0  73653      0    201      0]\n",
      " [     0      0      0   6735    154     52]\n",
      " [     0      0    289    129  17400      0]\n",
      " [     0      1      0     42      0   2524]]\n"
     ]
    }
   ],
   "source": [
    "(accuracy_knn, precision_knn, f1_knn) = evaluate_model(knn)"
   ]
  },
  {
   "cell_type": "code",
   "execution_count": 13,
   "id": "93b3a9cd-e0db-48cc-8660-2c352c17ddc3",
   "metadata": {},
   "outputs": [],
   "source": [
    "mlflow.log_metric(\"accuracy knn\", accuracy_knn)\n",
    "mlflow.log_metric(\"precision knn\", precision_knn)\n",
    "mlflow.log_metric(\"f1 score knn\", f1_knn)"
   ]
  },
  {
   "cell_type": "code",
   "execution_count": 14,
   "id": "e92629c8-4bb4-4959-b450-f211f2341b5d",
   "metadata": {},
   "outputs": [
    {
     "data": {
      "text/plain": [
       "ModelInfo(artifact_path='knn', flavors={'python_function': {'model_path': 'model.pkl', 'loader_module': 'mlflow.sklearn', 'python_version': '3.10.1', 'env': 'conda.yaml'}, 'sklearn': {'pickled_model': 'model.pkl', 'sklearn_version': '1.1.2', 'serialization_format': 'cloudpickle', 'code': None}}, model_uri='runs:/8987cbf19f42470da3b811036e2b664c/knn', model_uuid='b2fedcd70608440ba36c869c5693414d', run_id='8987cbf19f42470da3b811036e2b664c', saved_input_example_info=None, signature_dict=None, utc_time_created='2022-09-28 00:44:43.303256', mlflow_version='1.28.0')"
      ]
     },
     "execution_count": 14,
     "metadata": {},
     "output_type": "execute_result"
    }
   ],
   "source": [
    "mlflow.sklearn.log_model(knn, 'knn')"
   ]
  },
  {
   "cell_type": "markdown",
   "id": "de50ecc0-6751-4482-8060-8cc1e3960f0e",
   "metadata": {},
   "source": [
    "#### Naive Bayes"
   ]
  },
  {
   "cell_type": "code",
   "execution_count": 15,
   "id": "721f3930-38f1-4933-9ac0-a3a193b3890e",
   "metadata": {},
   "outputs": [
    {
     "data": {
      "text/html": [
       "<style>#sk-container-id-2 {color: black;background-color: white;}#sk-container-id-2 pre{padding: 0;}#sk-container-id-2 div.sk-toggleable {background-color: white;}#sk-container-id-2 label.sk-toggleable__label {cursor: pointer;display: block;width: 100%;margin-bottom: 0;padding: 0.3em;box-sizing: border-box;text-align: center;}#sk-container-id-2 label.sk-toggleable__label-arrow:before {content: \"▸\";float: left;margin-right: 0.25em;color: #696969;}#sk-container-id-2 label.sk-toggleable__label-arrow:hover:before {color: black;}#sk-container-id-2 div.sk-estimator:hover label.sk-toggleable__label-arrow:before {color: black;}#sk-container-id-2 div.sk-toggleable__content {max-height: 0;max-width: 0;overflow: hidden;text-align: left;background-color: #f0f8ff;}#sk-container-id-2 div.sk-toggleable__content pre {margin: 0.2em;color: black;border-radius: 0.25em;background-color: #f0f8ff;}#sk-container-id-2 input.sk-toggleable__control:checked~div.sk-toggleable__content {max-height: 200px;max-width: 100%;overflow: auto;}#sk-container-id-2 input.sk-toggleable__control:checked~label.sk-toggleable__label-arrow:before {content: \"▾\";}#sk-container-id-2 div.sk-estimator input.sk-toggleable__control:checked~label.sk-toggleable__label {background-color: #d4ebff;}#sk-container-id-2 div.sk-label input.sk-toggleable__control:checked~label.sk-toggleable__label {background-color: #d4ebff;}#sk-container-id-2 input.sk-hidden--visually {border: 0;clip: rect(1px 1px 1px 1px);clip: rect(1px, 1px, 1px, 1px);height: 1px;margin: -1px;overflow: hidden;padding: 0;position: absolute;width: 1px;}#sk-container-id-2 div.sk-estimator {font-family: monospace;background-color: #f0f8ff;border: 1px dotted black;border-radius: 0.25em;box-sizing: border-box;margin-bottom: 0.5em;}#sk-container-id-2 div.sk-estimator:hover {background-color: #d4ebff;}#sk-container-id-2 div.sk-parallel-item::after {content: \"\";width: 100%;border-bottom: 1px solid gray;flex-grow: 1;}#sk-container-id-2 div.sk-label:hover label.sk-toggleable__label {background-color: #d4ebff;}#sk-container-id-2 div.sk-serial::before {content: \"\";position: absolute;border-left: 1px solid gray;box-sizing: border-box;top: 0;bottom: 0;left: 50%;z-index: 0;}#sk-container-id-2 div.sk-serial {display: flex;flex-direction: column;align-items: center;background-color: white;padding-right: 0.2em;padding-left: 0.2em;position: relative;}#sk-container-id-2 div.sk-item {position: relative;z-index: 1;}#sk-container-id-2 div.sk-parallel {display: flex;align-items: stretch;justify-content: center;background-color: white;position: relative;}#sk-container-id-2 div.sk-item::before, #sk-container-id-2 div.sk-parallel-item::before {content: \"\";position: absolute;border-left: 1px solid gray;box-sizing: border-box;top: 0;bottom: 0;left: 50%;z-index: -1;}#sk-container-id-2 div.sk-parallel-item {display: flex;flex-direction: column;z-index: 1;position: relative;background-color: white;}#sk-container-id-2 div.sk-parallel-item:first-child::after {align-self: flex-end;width: 50%;}#sk-container-id-2 div.sk-parallel-item:last-child::after {align-self: flex-start;width: 50%;}#sk-container-id-2 div.sk-parallel-item:only-child::after {width: 0;}#sk-container-id-2 div.sk-dashed-wrapped {border: 1px dashed gray;margin: 0 0.4em 0.5em 0.4em;box-sizing: border-box;padding-bottom: 0.4em;background-color: white;}#sk-container-id-2 div.sk-label label {font-family: monospace;font-weight: bold;display: inline-block;line-height: 1.2em;}#sk-container-id-2 div.sk-label-container {text-align: center;}#sk-container-id-2 div.sk-container {/* jupyter's `normalize.less` sets `[hidden] { display: none; }` but bootstrap.min.css set `[hidden] { display: none !important; }` so we also need the `!important` here to be able to override the default hidden behavior on the sphinx rendered scikit-learn.org. See: https://github.com/scikit-learn/scikit-learn/issues/21755 */display: inline-block !important;position: relative;}#sk-container-id-2 div.sk-text-repr-fallback {display: none;}</style><div id=\"sk-container-id-2\" class=\"sk-top-container\"><div class=\"sk-text-repr-fallback\"><pre>GaussianNB()</pre><b>In a Jupyter environment, please rerun this cell to show the HTML representation or trust the notebook. <br />On GitHub, the HTML representation is unable to render, please try loading this page with nbviewer.org.</b></div><div class=\"sk-container\" hidden><div class=\"sk-item\"><div class=\"sk-estimator sk-toggleable\"><input class=\"sk-toggleable__control sk-hidden--visually\" id=\"sk-estimator-id-2\" type=\"checkbox\" checked><label for=\"sk-estimator-id-2\" class=\"sk-toggleable__label sk-toggleable__label-arrow\">GaussianNB</label><div class=\"sk-toggleable__content\"><pre>GaussianNB()</pre></div></div></div></div></div>"
      ],
      "text/plain": [
       "GaussianNB()"
      ]
     },
     "execution_count": 15,
     "metadata": {},
     "output_type": "execute_result"
    }
   ],
   "source": [
    "# create and fit naive Bayes\n",
    "gnb = GaussianNB()\n",
    "gnb.fit(X_train, y_train)"
   ]
  },
  {
   "cell_type": "code",
   "execution_count": 16,
   "id": "f9edc345-3678-4541-aedf-b9b99404eed3",
   "metadata": {},
   "outputs": [
    {
     "name": "stdout",
     "output_type": "stream",
     "text": [
      "Test Accuracy:  0.6402104087142724\n",
      "Test Precision:  0.5364733661507681\n",
      "Test F1 score:  0.54453877357957\n",
      "Test Confusion Matrix:\n",
      "[[170739      0   5955      0      0    945]\n",
      " [    26     76      5     11      0     23]\n",
      " [ 64572      0   7343      0      0   2245]\n",
      " [  5517      0    843      0    259    322]\n",
      " [ 14314      0   2966      0      0    538]\n",
      " [  1601      0    335      0      0    631]]\n"
     ]
    }
   ],
   "source": [
    "(accuracy_gnb, precision_gnb, f1_gnb) = evaluate_model(gnb)"
   ]
  },
  {
   "cell_type": "code",
   "execution_count": 17,
   "id": "ac8ca38e-e4f9-4980-a1a5-3b5d1ab15dd0",
   "metadata": {},
   "outputs": [],
   "source": [
    "mlflow.log_metric(\"accuracy Naive Bayes\", accuracy_gnb)\n",
    "mlflow.log_metric(\"precision Naive Bayes\", precision_gnb)\n",
    "mlflow.log_metric(\"f1 score Naive Bayes\", f1_gnb)"
   ]
  },
  {
   "cell_type": "code",
   "execution_count": 18,
   "id": "a09d7157-f60e-422a-825f-9fbd684f56d9",
   "metadata": {},
   "outputs": [
    {
     "data": {
      "text/plain": [
       "ModelInfo(artifact_path='gnb', flavors={'python_function': {'model_path': 'model.pkl', 'loader_module': 'mlflow.sklearn', 'python_version': '3.10.1', 'env': 'conda.yaml'}, 'sklearn': {'pickled_model': 'model.pkl', 'sklearn_version': '1.1.2', 'serialization_format': 'cloudpickle', 'code': None}}, model_uri='runs:/8987cbf19f42470da3b811036e2b664c/gnb', model_uuid='faf153cf657e4fbcb59e67ac3ce0bd09', run_id='8987cbf19f42470da3b811036e2b664c', saved_input_example_info=None, signature_dict=None, utc_time_created='2022-09-28 00:45:41.339514', mlflow_version='1.28.0')"
      ]
     },
     "execution_count": 18,
     "metadata": {},
     "output_type": "execute_result"
    }
   ],
   "source": [
    "mlflow.sklearn.log_model(gnb, 'gnb')"
   ]
  },
  {
   "cell_type": "markdown",
   "id": "7e35eca6-6a8f-4070-8894-4ad0702bd23f",
   "metadata": {},
   "source": [
    "#### Multi layer perceptron"
   ]
  },
  {
   "cell_type": "code",
   "execution_count": 41,
   "id": "dc2f05c2-f99d-494f-a40b-e087752bfa2c",
   "metadata": {},
   "outputs": [
    {
     "name": "stderr",
     "output_type": "stream",
     "text": [
      "C:\\Users\\Anna Luiza\\AppData\\Local\\Programs\\Python\\Python310\\lib\\site-packages\\sklearn\\neural_network\\_multilayer_perceptron.py:709: UserWarning: Training interrupted by user.\n",
      "  warnings.warn(\"Training interrupted by user.\")\n"
     ]
    }
   ],
   "source": [
    "# create and fit MLP with scikit learn\n",
    "mlp = MLPClassifier(random_state=1, max_iter=300).fit(X_train, y_train)"
   ]
  },
  {
   "cell_type": "code",
   "execution_count": null,
   "id": "5af5548a-aa52-4d83-801e-7ee69d91e30e",
   "metadata": {},
   "outputs": [],
   "source": [
    "#  create and fit MLP with PyTorch"
   ]
  },
  {
   "cell_type": "code",
   "execution_count": 13,
   "id": "31c10313-b690-496a-ac65-bd5230a38363",
   "metadata": {},
   "outputs": [],
   "source": [
    "(accuracy_mlp, precision_mlp, f1_mlp) = evaluate_model(mlp)"
   ]
  },
  {
   "cell_type": "code",
   "execution_count": 17,
   "id": "bf81b3cb-c977-42ab-93c9-f9e52a2d3e02",
   "metadata": {},
   "outputs": [],
   "source": [
    "mlflow.log_metric(\"accuracy MLP\", accuracy_mlp)\n",
    "mlflow.log_metric(\"rmse MLP\", precision_mlp)\n",
    "mlflow.log_metric(\"r2 MLP\", f1_mlp)"
   ]
  },
  {
   "cell_type": "code",
   "execution_count": 19,
   "id": "730cad8a-94db-4257-8278-b918c6055ba6",
   "metadata": {},
   "outputs": [
    {
     "data": {
      "text/plain": [
       "ModelInfo(artifact_path='mlp', flavors={'python_function': {'model_path': 'model.pkl', 'loader_module': 'mlflow.sklearn', 'python_version': '3.10.1', 'env': 'conda.yaml'}, 'sklearn': {'pickled_model': 'model.pkl', 'sklearn_version': '1.1.2', 'serialization_format': 'cloudpickle', 'code': None}}, model_uri='runs:/abd0369f53534f0b9dfa68e7384c2fe2/mlp', model_uuid='56297310c8b04e9bbf0dbcb401c0b585', run_id='abd0369f53534f0b9dfa68e7384c2fe2', saved_input_example_info=None, signature_dict=None, utc_time_created='2022-09-21 18:28:33.858684', mlflow_version='1.28.0')"
      ]
     },
     "execution_count": 19,
     "metadata": {},
     "output_type": "execute_result"
    }
   ],
   "source": [
    "mlflow.sklearn.log_model(mlp, 'mlp')"
   ]
  },
  {
   "cell_type": "markdown",
   "id": "a35080b4-af47-440f-8f5e-003908403829",
   "metadata": {},
   "source": [
    "#### Random forest"
   ]
  },
  {
   "cell_type": "code",
   "execution_count": null,
   "id": "c9a86f7f-c11b-4dbb-b87c-bc71bb718f28",
   "metadata": {},
   "outputs": [],
   "source": [
    "# create and fit Random Forest\n",
    "random_forest = RandomForestClassifier(max_depth=4, random_state=0)\n",
    "random_forest.fit(X_train, y_train)"
   ]
  },
  {
   "cell_type": "code",
   "execution_count": null,
   "id": "0a9fb015-310c-4451-ab1c-3b16aaf49f96",
   "metadata": {},
   "outputs": [],
   "source": [
    "(accuracy_randForest, precision_randForest, f1_randForest) = evaluate_model(random_forest)"
   ]
  },
  {
   "cell_type": "code",
   "execution_count": 21,
   "id": "b0f8ca88-1f21-4e9e-897d-166371b82d6f",
   "metadata": {},
   "outputs": [],
   "source": [
    "mlflow.log_metric(\"accuracy random forest\", accuracy_randForest)\n",
    "mlflow.log_metric(\"precision random forest\", precision_randForest)\n",
    "mlflow.log_metric(\"f1 score random forest\", f1_randForest)"
   ]
  },
  {
   "cell_type": "code",
   "execution_count": 22,
   "id": "08ecb928-feef-43e5-b9da-d1ff248fc50e",
   "metadata": {},
   "outputs": [
    {
     "data": {
      "text/plain": [
       "ModelInfo(artifact_path='random forest', flavors={'python_function': {'model_path': 'model.pkl', 'loader_module': 'mlflow.sklearn', 'python_version': '3.10.1', 'env': 'conda.yaml'}, 'sklearn': {'pickled_model': 'model.pkl', 'sklearn_version': '1.1.2', 'serialization_format': 'cloudpickle', 'code': None}}, model_uri='runs:/8987cbf19f42470da3b811036e2b664c/random forest', model_uuid='e50d5702c7ca413abe446aee26fc38e3', run_id='8987cbf19f42470da3b811036e2b664c', saved_input_example_info=None, signature_dict=None, utc_time_created='2022-09-28 00:48:12.757718', mlflow_version='1.28.0')"
      ]
     },
     "execution_count": 22,
     "metadata": {},
     "output_type": "execute_result"
    }
   ],
   "source": [
    "mlflow.sklearn.log_model(random_forest, 'random forest')"
   ]
  },
  {
   "cell_type": "code",
   "execution_count": 54,
   "id": "4d26337c-8ddd-47eb-a2fc-0882965eddc9",
   "metadata": {},
   "outputs": [],
   "source": [
    "mlflow.end_run()"
   ]
  },
  {
   "cell_type": "markdown",
   "id": "b3d7efc2-3ed1-4e4d-9de8-ac93520da1b1",
   "metadata": {},
   "source": [
    "### Seleção de hiper-parâmetros"
   ]
  },
  {
   "cell_type": "markdown",
   "id": "356efdba-b053-431b-beac-e638fa2e093c",
   "metadata": {
    "tags": []
   },
   "source": [
    "#### KNN"
   ]
  },
  {
   "cell_type": "code",
   "execution_count": 50,
   "id": "26669eaa-a468-4ab1-a272-3f95c7706534",
   "metadata": {},
   "outputs": [],
   "source": [
    "from sklearn.model_selection import GridSearchCV"
   ]
  },
  {
   "cell_type": "code",
   "execution_count": 51,
   "id": "5e14f14a-4626-4fa3-96be-494ee6b0ed36",
   "metadata": {},
   "outputs": [],
   "source": [
    "params_knn = {\n",
    "    'metric': ['euclidean', 'minkowski'],\n",
    "    'n_neighbors': [2, 3, 5, 7, 10, 15, 20],\n",
    "    'p': [1,2]\n",
    "}"
   ]
  },
  {
   "cell_type": "code",
   "execution_count": 52,
   "id": "dcb8e851-1336-4a9e-ab5c-9819d0b48952",
   "metadata": {},
   "outputs": [],
   "source": [
    "grid_search = GridSearchCV(estimator=KNeighborsClassifier(), \n",
    "                           param_grid=params_knn,\n",
    "                           cv=4, n_jobs=-1, verbose=1, scoring = 'accuracy')"
   ]
  },
  {
   "cell_type": "code",
   "execution_count": 53,
   "id": "c3674da9-04cd-4773-8913-7ee6fb2674b0",
   "metadata": {},
   "outputs": [
    {
     "name": "stdout",
     "output_type": "stream",
     "text": [
      "Fitting 4 folds for each of 28 candidates, totalling 112 fits\n"
     ]
    },
    {
     "data": {
      "text/html": [
       "<style>#sk-container-id-4 {color: black;background-color: white;}#sk-container-id-4 pre{padding: 0;}#sk-container-id-4 div.sk-toggleable {background-color: white;}#sk-container-id-4 label.sk-toggleable__label {cursor: pointer;display: block;width: 100%;margin-bottom: 0;padding: 0.3em;box-sizing: border-box;text-align: center;}#sk-container-id-4 label.sk-toggleable__label-arrow:before {content: \"▸\";float: left;margin-right: 0.25em;color: #696969;}#sk-container-id-4 label.sk-toggleable__label-arrow:hover:before {color: black;}#sk-container-id-4 div.sk-estimator:hover label.sk-toggleable__label-arrow:before {color: black;}#sk-container-id-4 div.sk-toggleable__content {max-height: 0;max-width: 0;overflow: hidden;text-align: left;background-color: #f0f8ff;}#sk-container-id-4 div.sk-toggleable__content pre {margin: 0.2em;color: black;border-radius: 0.25em;background-color: #f0f8ff;}#sk-container-id-4 input.sk-toggleable__control:checked~div.sk-toggleable__content {max-height: 200px;max-width: 100%;overflow: auto;}#sk-container-id-4 input.sk-toggleable__control:checked~label.sk-toggleable__label-arrow:before {content: \"▾\";}#sk-container-id-4 div.sk-estimator input.sk-toggleable__control:checked~label.sk-toggleable__label {background-color: #d4ebff;}#sk-container-id-4 div.sk-label input.sk-toggleable__control:checked~label.sk-toggleable__label {background-color: #d4ebff;}#sk-container-id-4 input.sk-hidden--visually {border: 0;clip: rect(1px 1px 1px 1px);clip: rect(1px, 1px, 1px, 1px);height: 1px;margin: -1px;overflow: hidden;padding: 0;position: absolute;width: 1px;}#sk-container-id-4 div.sk-estimator {font-family: monospace;background-color: #f0f8ff;border: 1px dotted black;border-radius: 0.25em;box-sizing: border-box;margin-bottom: 0.5em;}#sk-container-id-4 div.sk-estimator:hover {background-color: #d4ebff;}#sk-container-id-4 div.sk-parallel-item::after {content: \"\";width: 100%;border-bottom: 1px solid gray;flex-grow: 1;}#sk-container-id-4 div.sk-label:hover label.sk-toggleable__label {background-color: #d4ebff;}#sk-container-id-4 div.sk-serial::before {content: \"\";position: absolute;border-left: 1px solid gray;box-sizing: border-box;top: 0;bottom: 0;left: 50%;z-index: 0;}#sk-container-id-4 div.sk-serial {display: flex;flex-direction: column;align-items: center;background-color: white;padding-right: 0.2em;padding-left: 0.2em;position: relative;}#sk-container-id-4 div.sk-item {position: relative;z-index: 1;}#sk-container-id-4 div.sk-parallel {display: flex;align-items: stretch;justify-content: center;background-color: white;position: relative;}#sk-container-id-4 div.sk-item::before, #sk-container-id-4 div.sk-parallel-item::before {content: \"\";position: absolute;border-left: 1px solid gray;box-sizing: border-box;top: 0;bottom: 0;left: 50%;z-index: -1;}#sk-container-id-4 div.sk-parallel-item {display: flex;flex-direction: column;z-index: 1;position: relative;background-color: white;}#sk-container-id-4 div.sk-parallel-item:first-child::after {align-self: flex-end;width: 50%;}#sk-container-id-4 div.sk-parallel-item:last-child::after {align-self: flex-start;width: 50%;}#sk-container-id-4 div.sk-parallel-item:only-child::after {width: 0;}#sk-container-id-4 div.sk-dashed-wrapped {border: 1px dashed gray;margin: 0 0.4em 0.5em 0.4em;box-sizing: border-box;padding-bottom: 0.4em;background-color: white;}#sk-container-id-4 div.sk-label label {font-family: monospace;font-weight: bold;display: inline-block;line-height: 1.2em;}#sk-container-id-4 div.sk-label-container {text-align: center;}#sk-container-id-4 div.sk-container {/* jupyter's `normalize.less` sets `[hidden] { display: none; }` but bootstrap.min.css set `[hidden] { display: none !important; }` so we also need the `!important` here to be able to override the default hidden behavior on the sphinx rendered scikit-learn.org. See: https://github.com/scikit-learn/scikit-learn/issues/21755 */display: inline-block !important;position: relative;}#sk-container-id-4 div.sk-text-repr-fallback {display: none;}</style><div id=\"sk-container-id-4\" class=\"sk-top-container\"><div class=\"sk-text-repr-fallback\"><pre>GridSearchCV(cv=4, estimator=KNeighborsClassifier(), n_jobs=-1,\n",
       "             param_grid={&#x27;metric&#x27;: [&#x27;euclidean&#x27;, &#x27;minkowski&#x27;],\n",
       "                         &#x27;n_neighbors&#x27;: [2, 3, 5, 7, 10, 15, 20], &#x27;p&#x27;: [1, 2]},\n",
       "             scoring=&#x27;accuracy&#x27;, verbose=1)</pre><b>In a Jupyter environment, please rerun this cell to show the HTML representation or trust the notebook. <br />On GitHub, the HTML representation is unable to render, please try loading this page with nbviewer.org.</b></div><div class=\"sk-container\" hidden><div class=\"sk-item sk-dashed-wrapped\"><div class=\"sk-label-container\"><div class=\"sk-label sk-toggleable\"><input class=\"sk-toggleable__control sk-hidden--visually\" id=\"sk-estimator-id-4\" type=\"checkbox\" ><label for=\"sk-estimator-id-4\" class=\"sk-toggleable__label sk-toggleable__label-arrow\">GridSearchCV</label><div class=\"sk-toggleable__content\"><pre>GridSearchCV(cv=4, estimator=KNeighborsClassifier(), n_jobs=-1,\n",
       "             param_grid={&#x27;metric&#x27;: [&#x27;euclidean&#x27;, &#x27;minkowski&#x27;],\n",
       "                         &#x27;n_neighbors&#x27;: [2, 3, 5, 7, 10, 15, 20], &#x27;p&#x27;: [1, 2]},\n",
       "             scoring=&#x27;accuracy&#x27;, verbose=1)</pre></div></div></div><div class=\"sk-parallel\"><div class=\"sk-parallel-item\"><div class=\"sk-item\"><div class=\"sk-label-container\"><div class=\"sk-label sk-toggleable\"><input class=\"sk-toggleable__control sk-hidden--visually\" id=\"sk-estimator-id-5\" type=\"checkbox\" ><label for=\"sk-estimator-id-5\" class=\"sk-toggleable__label sk-toggleable__label-arrow\">estimator: KNeighborsClassifier</label><div class=\"sk-toggleable__content\"><pre>KNeighborsClassifier()</pre></div></div></div><div class=\"sk-serial\"><div class=\"sk-item\"><div class=\"sk-estimator sk-toggleable\"><input class=\"sk-toggleable__control sk-hidden--visually\" id=\"sk-estimator-id-6\" type=\"checkbox\" ><label for=\"sk-estimator-id-6\" class=\"sk-toggleable__label sk-toggleable__label-arrow\">KNeighborsClassifier</label><div class=\"sk-toggleable__content\"><pre>KNeighborsClassifier()</pre></div></div></div></div></div></div></div></div></div></div>"
      ],
      "text/plain": [
       "GridSearchCV(cv=4, estimator=KNeighborsClassifier(), n_jobs=-1,\n",
       "             param_grid={'metric': ['euclidean', 'minkowski'],\n",
       "                         'n_neighbors': [2, 3, 5, 7, 10, 15, 20], 'p': [1, 2]},\n",
       "             scoring='accuracy', verbose=1)"
      ]
     },
     "execution_count": 53,
     "metadata": {},
     "output_type": "execute_result"
    }
   ],
   "source": [
    "grid_search.fit(X_valid, y_valid)"
   ]
  },
  {
   "cell_type": "code",
   "execution_count": 56,
   "id": "7ef44971-6e1f-4d32-8103-696a0eef9222",
   "metadata": {},
   "outputs": [
    {
     "name": "stdout",
     "output_type": "stream",
     "text": [
      "0.9719556306287145\n",
      "{'metric': 'minkowski', 'n_neighbors': 3, 'p': 1}\n"
     ]
    }
   ],
   "source": [
    "print(grid_search.best_score_)\n",
    "best_params_knn = grid_search.best_params_\n",
    "print(best_params_knn)"
   ]
  },
  {
   "cell_type": "markdown",
   "id": "38a4484f-db1a-4600-b588-3eab8728e028",
   "metadata": {},
   "source": [
    "#### Gaussian NB"
   ]
  },
  {
   "cell_type": "code",
   "execution_count": 29,
   "id": "f91c94a4-4aee-4d9c-be3b-36ad6bb193d7",
   "metadata": {},
   "outputs": [],
   "source": [
    "import skopt\n",
    "from sklearn.model_selection import RepeatedStratifiedKFold\n",
    "from skopt import BayesSearchCV"
   ]
  },
  {
   "cell_type": "code",
   "execution_count": 33,
   "id": "b78acbbb-de6d-46ee-8097-b0752c4ea13f",
   "metadata": {},
   "outputs": [],
   "source": [
    "params_gnb  = {'var_smoothing': np.logspace(0,-9, num=100)}"
   ]
  },
  {
   "cell_type": "code",
   "execution_count": 57,
   "id": "7498d35b-9213-494f-a171-73f50a5e72cc",
   "metadata": {},
   "outputs": [],
   "source": [
    "cv = RepeatedStratifiedKFold(n_splits=5, n_repeats=4, random_state=1)\n",
    "search = BayesSearchCV(estimator=GaussianNB(), search_spaces=params_gnb, n_jobs=-1, cv=cv, scoring ='accuracy')"
   ]
  },
  {
   "cell_type": "code",
   "execution_count": 58,
   "id": "097562d8-8860-40a3-8d0f-b4ca66d92f75",
   "metadata": {
    "tags": []
   },
   "outputs": [
    {
     "data": {
      "text/html": [
       "<style>#sk-container-id-5 {color: black;background-color: white;}#sk-container-id-5 pre{padding: 0;}#sk-container-id-5 div.sk-toggleable {background-color: white;}#sk-container-id-5 label.sk-toggleable__label {cursor: pointer;display: block;width: 100%;margin-bottom: 0;padding: 0.3em;box-sizing: border-box;text-align: center;}#sk-container-id-5 label.sk-toggleable__label-arrow:before {content: \"▸\";float: left;margin-right: 0.25em;color: #696969;}#sk-container-id-5 label.sk-toggleable__label-arrow:hover:before {color: black;}#sk-container-id-5 div.sk-estimator:hover label.sk-toggleable__label-arrow:before {color: black;}#sk-container-id-5 div.sk-toggleable__content {max-height: 0;max-width: 0;overflow: hidden;text-align: left;background-color: #f0f8ff;}#sk-container-id-5 div.sk-toggleable__content pre {margin: 0.2em;color: black;border-radius: 0.25em;background-color: #f0f8ff;}#sk-container-id-5 input.sk-toggleable__control:checked~div.sk-toggleable__content {max-height: 200px;max-width: 100%;overflow: auto;}#sk-container-id-5 input.sk-toggleable__control:checked~label.sk-toggleable__label-arrow:before {content: \"▾\";}#sk-container-id-5 div.sk-estimator input.sk-toggleable__control:checked~label.sk-toggleable__label {background-color: #d4ebff;}#sk-container-id-5 div.sk-label input.sk-toggleable__control:checked~label.sk-toggleable__label {background-color: #d4ebff;}#sk-container-id-5 input.sk-hidden--visually {border: 0;clip: rect(1px 1px 1px 1px);clip: rect(1px, 1px, 1px, 1px);height: 1px;margin: -1px;overflow: hidden;padding: 0;position: absolute;width: 1px;}#sk-container-id-5 div.sk-estimator {font-family: monospace;background-color: #f0f8ff;border: 1px dotted black;border-radius: 0.25em;box-sizing: border-box;margin-bottom: 0.5em;}#sk-container-id-5 div.sk-estimator:hover {background-color: #d4ebff;}#sk-container-id-5 div.sk-parallel-item::after {content: \"\";width: 100%;border-bottom: 1px solid gray;flex-grow: 1;}#sk-container-id-5 div.sk-label:hover label.sk-toggleable__label {background-color: #d4ebff;}#sk-container-id-5 div.sk-serial::before {content: \"\";position: absolute;border-left: 1px solid gray;box-sizing: border-box;top: 0;bottom: 0;left: 50%;z-index: 0;}#sk-container-id-5 div.sk-serial {display: flex;flex-direction: column;align-items: center;background-color: white;padding-right: 0.2em;padding-left: 0.2em;position: relative;}#sk-container-id-5 div.sk-item {position: relative;z-index: 1;}#sk-container-id-5 div.sk-parallel {display: flex;align-items: stretch;justify-content: center;background-color: white;position: relative;}#sk-container-id-5 div.sk-item::before, #sk-container-id-5 div.sk-parallel-item::before {content: \"\";position: absolute;border-left: 1px solid gray;box-sizing: border-box;top: 0;bottom: 0;left: 50%;z-index: -1;}#sk-container-id-5 div.sk-parallel-item {display: flex;flex-direction: column;z-index: 1;position: relative;background-color: white;}#sk-container-id-5 div.sk-parallel-item:first-child::after {align-self: flex-end;width: 50%;}#sk-container-id-5 div.sk-parallel-item:last-child::after {align-self: flex-start;width: 50%;}#sk-container-id-5 div.sk-parallel-item:only-child::after {width: 0;}#sk-container-id-5 div.sk-dashed-wrapped {border: 1px dashed gray;margin: 0 0.4em 0.5em 0.4em;box-sizing: border-box;padding-bottom: 0.4em;background-color: white;}#sk-container-id-5 div.sk-label label {font-family: monospace;font-weight: bold;display: inline-block;line-height: 1.2em;}#sk-container-id-5 div.sk-label-container {text-align: center;}#sk-container-id-5 div.sk-container {/* jupyter's `normalize.less` sets `[hidden] { display: none; }` but bootstrap.min.css set `[hidden] { display: none !important; }` so we also need the `!important` here to be able to override the default hidden behavior on the sphinx rendered scikit-learn.org. See: https://github.com/scikit-learn/scikit-learn/issues/21755 */display: inline-block !important;position: relative;}#sk-container-id-5 div.sk-text-repr-fallback {display: none;}</style><div id=\"sk-container-id-5\" class=\"sk-top-container\"><div class=\"sk-text-repr-fallback\"><pre>BayesSearchCV(cv=RepeatedStratifiedKFold(n_repeats=4, n_splits=5, random_state=1),\n",
       "              estimator=GaussianNB(), n_jobs=-1, scoring=&#x27;accuracy&#x27;,\n",
       "              search_spaces={&#x27;var_smoothing&#x27;: array([1.00000000e+00, 8.11130831e-01, 6.57933225e-01, 5.33669923e-01,\n",
       "       4.32876128e-01, 3.51119173e-01, 2.84803587e-01, 2.31012970e-01,\n",
       "       1.87381742e-01, 1.51991108e-01, 1.23284674e-01, 1.00000000e-01,...\n",
       "       1.23284674e-07, 1.00000000e-07, 8.11130831e-08, 6.57933225e-08,\n",
       "       5.33669923e-08, 4.32876128e-08, 3.51119173e-08, 2.84803587e-08,\n",
       "       2.31012970e-08, 1.87381742e-08, 1.51991108e-08, 1.23284674e-08,\n",
       "       1.00000000e-08, 8.11130831e-09, 6.57933225e-09, 5.33669923e-09,\n",
       "       4.32876128e-09, 3.51119173e-09, 2.84803587e-09, 2.31012970e-09,\n",
       "       1.87381742e-09, 1.51991108e-09, 1.23284674e-09, 1.00000000e-09])})</pre><b>In a Jupyter environment, please rerun this cell to show the HTML representation or trust the notebook. <br />On GitHub, the HTML representation is unable to render, please try loading this page with nbviewer.org.</b></div><div class=\"sk-container\" hidden><div class=\"sk-item sk-dashed-wrapped\"><div class=\"sk-label-container\"><div class=\"sk-label sk-toggleable\"><input class=\"sk-toggleable__control sk-hidden--visually\" id=\"sk-estimator-id-7\" type=\"checkbox\" ><label for=\"sk-estimator-id-7\" class=\"sk-toggleable__label sk-toggleable__label-arrow\">BayesSearchCV</label><div class=\"sk-toggleable__content\"><pre>BayesSearchCV(cv=RepeatedStratifiedKFold(n_repeats=4, n_splits=5, random_state=1),\n",
       "              estimator=GaussianNB(), n_jobs=-1, scoring=&#x27;accuracy&#x27;,\n",
       "              search_spaces={&#x27;var_smoothing&#x27;: array([1.00000000e+00, 8.11130831e-01, 6.57933225e-01, 5.33669923e-01,\n",
       "       4.32876128e-01, 3.51119173e-01, 2.84803587e-01, 2.31012970e-01,\n",
       "       1.87381742e-01, 1.51991108e-01, 1.23284674e-01, 1.00000000e-01,...\n",
       "       1.23284674e-07, 1.00000000e-07, 8.11130831e-08, 6.57933225e-08,\n",
       "       5.33669923e-08, 4.32876128e-08, 3.51119173e-08, 2.84803587e-08,\n",
       "       2.31012970e-08, 1.87381742e-08, 1.51991108e-08, 1.23284674e-08,\n",
       "       1.00000000e-08, 8.11130831e-09, 6.57933225e-09, 5.33669923e-09,\n",
       "       4.32876128e-09, 3.51119173e-09, 2.84803587e-09, 2.31012970e-09,\n",
       "       1.87381742e-09, 1.51991108e-09, 1.23284674e-09, 1.00000000e-09])})</pre></div></div></div><div class=\"sk-parallel\"><div class=\"sk-parallel-item\"><div class=\"sk-item\"><div class=\"sk-label-container\"><div class=\"sk-label sk-toggleable\"><input class=\"sk-toggleable__control sk-hidden--visually\" id=\"sk-estimator-id-8\" type=\"checkbox\" ><label for=\"sk-estimator-id-8\" class=\"sk-toggleable__label sk-toggleable__label-arrow\">estimator: GaussianNB</label><div class=\"sk-toggleable__content\"><pre>GaussianNB()</pre></div></div></div><div class=\"sk-serial\"><div class=\"sk-item\"><div class=\"sk-estimator sk-toggleable\"><input class=\"sk-toggleable__control sk-hidden--visually\" id=\"sk-estimator-id-9\" type=\"checkbox\" ><label for=\"sk-estimator-id-9\" class=\"sk-toggleable__label sk-toggleable__label-arrow\">GaussianNB</label><div class=\"sk-toggleable__content\"><pre>GaussianNB()</pre></div></div></div></div></div></div></div></div></div></div>"
      ],
      "text/plain": [
       "BayesSearchCV(cv=RepeatedStratifiedKFold(n_repeats=4, n_splits=5, random_state=1),\n",
       "              estimator=GaussianNB(), n_jobs=-1, scoring='accuracy',\n",
       "              search_spaces={'var_smoothing': array([1.00000000e+00, 8.11130831e-01, 6.57933225e-01, 5.33669923e-01,\n",
       "       4.32876128e-01, 3.51119173e-01, 2.84803587e-01, 2.31012970e-01,\n",
       "       1.87381742e-01, 1.51991108e-01, 1.23284674e-01, 1.00000000e-01,...\n",
       "       1.23284674e-07, 1.00000000e-07, 8.11130831e-08, 6.57933225e-08,\n",
       "       5.33669923e-08, 4.32876128e-08, 3.51119173e-08, 2.84803587e-08,\n",
       "       2.31012970e-08, 1.87381742e-08, 1.51991108e-08, 1.23284674e-08,\n",
       "       1.00000000e-08, 8.11130831e-09, 6.57933225e-09, 5.33669923e-09,\n",
       "       4.32876128e-09, 3.51119173e-09, 2.84803587e-09, 2.31012970e-09,\n",
       "       1.87381742e-09, 1.51991108e-09, 1.23284674e-09, 1.00000000e-09])})"
      ]
     },
     "execution_count": 58,
     "metadata": {},
     "output_type": "execute_result"
    }
   ],
   "source": [
    "search.fit(X_valid, y_valid)"
   ]
  },
  {
   "cell_type": "code",
   "execution_count": 61,
   "id": "59fa4f40-705c-4642-8eb3-a742f8a07d6b",
   "metadata": {},
   "outputs": [
    {
     "name": "stdout",
     "output_type": "stream",
     "text": [
      "0.6449053228776509\n",
      "OrderedDict([('var_smoothing', 4.328761281083053e-06)])\n"
     ]
    }
   ],
   "source": [
    "print(search.best_score_)\n",
    "best_params_nb = search.best_params_\n",
    "print(best_params_nb)"
   ]
  },
  {
   "cell_type": "markdown",
   "id": "6e39d157-eaa3-4572-9ccf-2cc963b26b02",
   "metadata": {
    "tags": []
   },
   "source": [
    "#### Multi-layer perceptron"
   ]
  },
  {
   "cell_type": "markdown",
   "id": "8afe242b-8a8f-4ae5-9933-056fb527c821",
   "metadata": {},
   "source": [
    "* Atenção: o scikit learn não foi indicado para uso com MLP, então vamos trocar pelo PyTorch"
   ]
  },
  {
   "cell_type": "markdown",
   "id": "3e7dc299-b66e-482f-bce6-ff8d3a0ea298",
   "metadata": {
    "tags": []
   },
   "source": [
    "#### Random Forest"
   ]
  },
  {
   "cell_type": "code",
   "execution_count": 41,
   "id": "a4d6333c-9714-4b44-8b0a-4647404cb56e",
   "metadata": {},
   "outputs": [],
   "source": [
    "from sklearn.model_selection import RandomizedSearchCV"
   ]
  },
  {
   "cell_type": "code",
   "execution_count": 46,
   "id": "11eeedc7-5d45-429f-a94a-5ae7ff843e40",
   "metadata": {},
   "outputs": [],
   "source": [
    "params_rf = {\n",
    "    'n_estimators': [50, 70, 100, 130],\n",
    "    'max_depth': [1,2,4, 7, 10]\n",
    "}"
   ]
  },
  {
   "cell_type": "code",
   "execution_count": 60,
   "id": "453c9ccf-40ee-4ef1-9acc-d13fa8912e64",
   "metadata": {},
   "outputs": [],
   "source": [
    "random_search_randForest = RandomizedSearchCV(RandomForestClassifier(), params_rf, random_state=0)\n",
    "search_randForest = random_search_randForest.fit(X_valid, y_valid)"
   ]
  },
  {
   "cell_type": "code",
   "execution_count": 62,
   "id": "5ab2c814-f74e-4283-bbc6-f10f46364c14",
   "metadata": {},
   "outputs": [
    {
     "name": "stdout",
     "output_type": "stream",
     "text": [
      "0.998882812869617\n",
      "{'n_estimators': 70, 'max_depth': 10}\n"
     ]
    }
   ],
   "source": [
    "print(search_randForest.best_score_)\n",
    "best_params_rf = search_randForest.best_params_\n",
    "print(best_params_rf)"
   ]
  },
  {
   "cell_type": "markdown",
   "id": "207bd09a-6f80-44f0-b374-b20bdca6e5f5",
   "metadata": {},
   "source": [
    "### Selecionar melhor modelo e aplicar otimização de acordo com os melhores hiper-parâmetros\n",
    "Nesta etapa iremos treinar novos modelos de cada um dos classificadores utilizando os melhores hiper parâmetros obtidos na etapa anterior. Em seguida, iremos avaliar-los sobre o conjunto de teste e apontar aquele com melhores resultados."
   ]
  },
  {
   "cell_type": "code",
   "execution_count": 63,
   "id": "51e6cfc8-1139-4a01-b59b-d685e3a5e173",
   "metadata": {},
   "outputs": [
    {
     "name": "stdout",
     "output_type": "stream",
     "text": [
      "{'metric': 'minkowski', 'n_neighbors': 3, 'p': 1}\n"
     ]
    }
   ],
   "source": [
    "print(best_params_knn)"
   ]
  },
  {
   "cell_type": "code",
   "execution_count": 64,
   "id": "c4f5a313-887e-4636-bfc8-7ba34c8e0917",
   "metadata": {
    "tags": []
   },
   "outputs": [],
   "source": [
    "knn_best_estimator = KNeighborsClassifier(metric='euclidean', n_neighbors=3, p=1)\n",
    "knn_best_estimator.fit(X_train, y_train)\n",
    "y_pred_best_knn = knn_best_estimator.predict(X_test)"
   ]
  },
  {
   "cell_type": "code",
   "execution_count": 65,
   "id": "5e24935f-eddd-4e90-bb49-258668b613be",
   "metadata": {},
   "outputs": [
    {
     "name": "stdout",
     "output_type": "stream",
     "text": [
      "Test Accuracy:  0.9949940200382431\n",
      "Test Precision:  0.9949879714710038\n",
      "Test F1 score:  0.994990405864923\n",
      "Test Confusion Matrix:\n",
      "[[177421      0    218      0      0      0]\n",
      " [     0    135      0      2      0      4]\n",
      " [   306      0  73653      0    201      0]\n",
      " [     0      0      0   6735    154     52]\n",
      " [     0      0    289    129  17400      0]\n",
      " [     0      1      0     42      0   2524]]\n"
     ]
    }
   ],
   "source": [
    "(best_acc_knn, best_prec_knn, best_f1_knn) = evaluate_model(knn_best_estimator)"
   ]
  },
  {
   "cell_type": "code",
   "execution_count": 67,
   "id": "48912b37-29c4-4434-8e78-c2b63a6ff83e",
   "metadata": {},
   "outputs": [
    {
     "name": "stdout",
     "output_type": "stream",
     "text": [
      "OrderedDict([('var_smoothing', 4.328761281083053e-06)])\n"
     ]
    }
   ],
   "source": [
    "print(best_params_nb)"
   ]
  },
  {
   "cell_type": "code",
   "execution_count": 68,
   "id": "04c5b8cf-5775-4345-aa56-87fb5bd5a155",
   "metadata": {},
   "outputs": [],
   "source": [
    "gnb_best_estimator = GaussianNB(var_smoothing=4.328761281083053e-06)\n",
    "gnb_best_estimator.fit(X_train, y_train)\n",
    "y_pred_best_gnb = gnb_best_estimator.predict(X_test)"
   ]
  },
  {
   "cell_type": "code",
   "execution_count": 69,
   "id": "fbe68375-e35f-4506-b008-f447c47dfc25",
   "metadata": {},
   "outputs": [
    {
     "name": "stdout",
     "output_type": "stream",
     "text": [
      "Test Accuracy:  0.6446506198391497\n"
     ]
    },
    {
     "name": "stderr",
     "output_type": "stream",
     "text": [
      "C:\\Users\\Anna Luiza\\AppData\\Local\\Programs\\Python\\Python310\\lib\\site-packages\\sklearn\\metrics\\_classification.py:1334: UndefinedMetricWarning: Precision is ill-defined and being set to 0.0 in labels with no predicted samples. Use `zero_division` parameter to control this behavior.\n",
      "  _warn_prf(average, modifier, msg_start, len(result))\n"
     ]
    },
    {
     "name": "stdout",
     "output_type": "stream",
     "text": [
      "Test Precision:  0.5442905154661274\n",
      "Test F1 score:  0.5466544953561634\n",
      "Test Confusion Matrix:\n",
      "[[172503      0   4191      0      0    945]\n",
      " [    98      0     43      0      0      0]\n",
      " [ 64486      0   7429      0      0   2245]\n",
      " [  5586      0   1145      0      0    210]\n",
      " [ 14517      0   2763      0      0    538]\n",
      " [  1613      0    857      0      0     97]]\n"
     ]
    }
   ],
   "source": [
    "(best_acc_nb, best_prec_nb, best_f1_nb) = evaluate_model(gnb_best_estimator)"
   ]
  },
  {
   "cell_type": "code",
   "execution_count": null,
   "id": "930e79be-1fbe-4de5-9ef0-fb1cd7978934",
   "metadata": {},
   "outputs": [],
   "source": [
    "# colocar aqui os melhores hiper parametros para o mlp"
   ]
  },
  {
   "cell_type": "code",
   "execution_count": null,
   "id": "6ed49bb5-91ba-429f-b16e-c177ec1c51b9",
   "metadata": {},
   "outputs": [],
   "source": [
    "mlp_best_estimator = MLPClassifier()\n",
    "mlp_best_estimator.fit(X_train, y_train)\n",
    "y_pred_best_mlp = mlp_best_estimator.predict(X_test)"
   ]
  },
  {
   "cell_type": "code",
   "execution_count": 71,
   "id": "33519969-d4e5-4000-b974-587b8e434e9e",
   "metadata": {},
   "outputs": [
    {
     "name": "stdout",
     "output_type": "stream",
     "text": [
      "{'n_estimators': 70, 'max_depth': 10}\n"
     ]
    }
   ],
   "source": [
    "print(best_params_rf)"
   ]
  },
  {
   "cell_type": "code",
   "execution_count": 72,
   "id": "0962a988-a99e-401e-9219-16856eeacfcd",
   "metadata": {},
   "outputs": [],
   "source": [
    "randForest_best_estimator = RandomForestClassifier(n_estimators= 70, max_depth=10)\n",
    "randForest_best_estimator.fit(X_train, y_train)\n",
    "y_pred_best_rf = randForest_best_estimator.predict(X_test)"
   ]
  },
  {
   "cell_type": "code",
   "execution_count": 73,
   "id": "44d99c12-8e6b-456d-aa43-9b60d3a71ed6",
   "metadata": {},
   "outputs": [
    {
     "name": "stdout",
     "output_type": "stream",
     "text": [
      "Test Accuracy:  0.9998675098293384\n",
      "Test Precision:  0.9998672547396271\n",
      "Test F1 score:  0.9998669809965022\n",
      "Test Confusion Matrix:\n",
      "[[177639      0      0      0      0      0]\n",
      " [     0    132      0      5      0      4]\n",
      " [     0      0  74160      0      0      0]\n",
      " [     0      0      0   6941      0      0]\n",
      " [     0      0      0      0  17818      0]\n",
      " [     0      5      0     23      0   2539]]\n"
     ]
    }
   ],
   "source": [
    "(best_acc_rf, best_prec_rf, best_f1_rf) = evaluate_model(randForest_best_estimator)"
   ]
  },
  {
   "cell_type": "markdown",
   "id": "712c549c-f0b2-4f5d-826e-e4855ae6faf5",
   "metadata": {},
   "source": [
    "Logar métricas resultantes no MLFlow"
   ]
  },
  {
   "cell_type": "code",
   "execution_count": 75,
   "id": "d081e684-69cd-441f-b2c7-7f76fedbf6b8",
   "metadata": {},
   "outputs": [],
   "source": [
    "mlflow.log_metric(\"Best Accuracy\", best_acc_rf)\n",
    "mlflow.log_metric(\"Best Precision\", best_prec_rf)\n",
    "mlflow.log_metric(\"Best f1 score\", best_f1_rf)"
   ]
  },
  {
   "cell_type": "markdown",
   "id": "425efa0b-7ddc-4379-b066-713091cf4fa4",
   "metadata": {},
   "source": [
    "## Clustering\n",
    "Vamos implementar o algoritmo k-means para obter uma clusterização dos dados."
   ]
  },
  {
   "cell_type": "code",
   "execution_count": 76,
   "id": "b029fb2f-9a2f-4c95-b123-744fb000aa14",
   "metadata": {},
   "outputs": [],
   "source": [
    "from sklearn.cluster import KMeans"
   ]
  },
  {
   "cell_type": "code",
   "execution_count": 77,
   "id": "89f54378-1090-494c-b9f5-4e3bd96c0a73",
   "metadata": {},
   "outputs": [],
   "source": [
    "kmeans = KMeans(n_clusters = 6, random_state=0, n_init=20)"
   ]
  },
  {
   "cell_type": "code",
   "execution_count": 86,
   "id": "0170598e-ae27-4a3a-a737-ce4c6cb6d30b",
   "metadata": {},
   "outputs": [
    {
     "data": {
      "text/html": [
       "<style>#sk-container-id-8 {color: black;background-color: white;}#sk-container-id-8 pre{padding: 0;}#sk-container-id-8 div.sk-toggleable {background-color: white;}#sk-container-id-8 label.sk-toggleable__label {cursor: pointer;display: block;width: 100%;margin-bottom: 0;padding: 0.3em;box-sizing: border-box;text-align: center;}#sk-container-id-8 label.sk-toggleable__label-arrow:before {content: \"▸\";float: left;margin-right: 0.25em;color: #696969;}#sk-container-id-8 label.sk-toggleable__label-arrow:hover:before {color: black;}#sk-container-id-8 div.sk-estimator:hover label.sk-toggleable__label-arrow:before {color: black;}#sk-container-id-8 div.sk-toggleable__content {max-height: 0;max-width: 0;overflow: hidden;text-align: left;background-color: #f0f8ff;}#sk-container-id-8 div.sk-toggleable__content pre {margin: 0.2em;color: black;border-radius: 0.25em;background-color: #f0f8ff;}#sk-container-id-8 input.sk-toggleable__control:checked~div.sk-toggleable__content {max-height: 200px;max-width: 100%;overflow: auto;}#sk-container-id-8 input.sk-toggleable__control:checked~label.sk-toggleable__label-arrow:before {content: \"▾\";}#sk-container-id-8 div.sk-estimator input.sk-toggleable__control:checked~label.sk-toggleable__label {background-color: #d4ebff;}#sk-container-id-8 div.sk-label input.sk-toggleable__control:checked~label.sk-toggleable__label {background-color: #d4ebff;}#sk-container-id-8 input.sk-hidden--visually {border: 0;clip: rect(1px 1px 1px 1px);clip: rect(1px, 1px, 1px, 1px);height: 1px;margin: -1px;overflow: hidden;padding: 0;position: absolute;width: 1px;}#sk-container-id-8 div.sk-estimator {font-family: monospace;background-color: #f0f8ff;border: 1px dotted black;border-radius: 0.25em;box-sizing: border-box;margin-bottom: 0.5em;}#sk-container-id-8 div.sk-estimator:hover {background-color: #d4ebff;}#sk-container-id-8 div.sk-parallel-item::after {content: \"\";width: 100%;border-bottom: 1px solid gray;flex-grow: 1;}#sk-container-id-8 div.sk-label:hover label.sk-toggleable__label {background-color: #d4ebff;}#sk-container-id-8 div.sk-serial::before {content: \"\";position: absolute;border-left: 1px solid gray;box-sizing: border-box;top: 0;bottom: 0;left: 50%;z-index: 0;}#sk-container-id-8 div.sk-serial {display: flex;flex-direction: column;align-items: center;background-color: white;padding-right: 0.2em;padding-left: 0.2em;position: relative;}#sk-container-id-8 div.sk-item {position: relative;z-index: 1;}#sk-container-id-8 div.sk-parallel {display: flex;align-items: stretch;justify-content: center;background-color: white;position: relative;}#sk-container-id-8 div.sk-item::before, #sk-container-id-8 div.sk-parallel-item::before {content: \"\";position: absolute;border-left: 1px solid gray;box-sizing: border-box;top: 0;bottom: 0;left: 50%;z-index: -1;}#sk-container-id-8 div.sk-parallel-item {display: flex;flex-direction: column;z-index: 1;position: relative;background-color: white;}#sk-container-id-8 div.sk-parallel-item:first-child::after {align-self: flex-end;width: 50%;}#sk-container-id-8 div.sk-parallel-item:last-child::after {align-self: flex-start;width: 50%;}#sk-container-id-8 div.sk-parallel-item:only-child::after {width: 0;}#sk-container-id-8 div.sk-dashed-wrapped {border: 1px dashed gray;margin: 0 0.4em 0.5em 0.4em;box-sizing: border-box;padding-bottom: 0.4em;background-color: white;}#sk-container-id-8 div.sk-label label {font-family: monospace;font-weight: bold;display: inline-block;line-height: 1.2em;}#sk-container-id-8 div.sk-label-container {text-align: center;}#sk-container-id-8 div.sk-container {/* jupyter's `normalize.less` sets `[hidden] { display: none; }` but bootstrap.min.css set `[hidden] { display: none !important; }` so we also need the `!important` here to be able to override the default hidden behavior on the sphinx rendered scikit-learn.org. See: https://github.com/scikit-learn/scikit-learn/issues/21755 */display: inline-block !important;position: relative;}#sk-container-id-8 div.sk-text-repr-fallback {display: none;}</style><div id=\"sk-container-id-8\" class=\"sk-top-container\"><div class=\"sk-text-repr-fallback\"><pre>KMeans(n_clusters=6, n_init=20, random_state=0)</pre><b>In a Jupyter environment, please rerun this cell to show the HTML representation or trust the notebook. <br />On GitHub, the HTML representation is unable to render, please try loading this page with nbviewer.org.</b></div><div class=\"sk-container\" hidden><div class=\"sk-item\"><div class=\"sk-estimator sk-toggleable\"><input class=\"sk-toggleable__control sk-hidden--visually\" id=\"sk-estimator-id-12\" type=\"checkbox\" checked><label for=\"sk-estimator-id-12\" class=\"sk-toggleable__label sk-toggleable__label-arrow\">KMeans</label><div class=\"sk-toggleable__content\"><pre>KMeans(n_clusters=6, n_init=20, random_state=0)</pre></div></div></div></div></div>"
      ],
      "text/plain": [
       "KMeans(n_clusters=6, n_init=20, random_state=0)"
      ]
     },
     "execution_count": 86,
     "metadata": {},
     "output_type": "execute_result"
    }
   ],
   "source": [
    "kmeans.fit(X)"
   ]
  },
  {
   "cell_type": "code",
   "execution_count": 87,
   "id": "64890f79-3b62-4bf1-9d81-0e81d169c227",
   "metadata": {},
   "outputs": [],
   "source": [
    "y_pred_kmeans = kmeans.labels_"
   ]
  },
  {
   "cell_type": "code",
   "execution_count": 93,
   "id": "1c8828c4-daf1-4609-a664-acccea883077",
   "metadata": {},
   "outputs": [
    {
     "name": "stdout",
     "output_type": "stream",
     "text": [
      "[1 1 1 ... 1 1 1]\n"
     ]
    }
   ],
   "source": [
    "print(y_pred_kmeans)"
   ]
  },
  {
   "cell_type": "code",
   "execution_count": 98,
   "id": "331fa77a-e43e-406b-b25e-03a23f1ece03",
   "metadata": {},
   "outputs": [],
   "source": [
    "y_pred_kmeans_str = []\n",
    "\n",
    "for i in y_pred_kmeans:\n",
    "    if i == 1:\n",
    "        y_pred_kmeans_str.append('Good')\n",
    "    elif i == 2:\n",
    "        y_pred_kmeans_str.append('Moderate')\n",
    "    elif i == 3:\n",
    "        y_pred_kmeans_str.append('Unhealthy for Sensitive Groups')\n",
    "    elif i == 4:\n",
    "        y_pred_kmeans_str.append('Unhealthy')\n",
    "    elif i == 5:\n",
    "        y_pred_kmeans_str.append('Very Unhealthy')\n",
    "    else:\n",
    "        y_pred_kmeans_str.append('Hazardous')"
   ]
  },
  {
   "cell_type": "code",
   "execution_count": 80,
   "id": "2314b180-febb-48f9-ae3b-d7d06095eb2e",
   "metadata": {},
   "outputs": [],
   "source": [
    "import sklearn.metrics\n",
    "import seaborn as sns"
   ]
  },
  {
   "cell_type": "code",
   "execution_count": 99,
   "id": "e9810ad3-74c0-4867-b469-8de37e3dd7d9",
   "metadata": {},
   "outputs": [],
   "source": [
    "confusion_matrix = sklearn.metrics.confusion_matrix(y, y_pred_kmeans_str)"
   ]
  },
  {
   "cell_type": "code",
   "execution_count": 101,
   "id": "04c832a9-b48a-4a64-8fa0-8277f0167bf7",
   "metadata": {},
   "outputs": [
    {
     "data": {
      "image/png": "[encoded data removed]",
      "text/plain": [
       "<Figure size 700x400 with 2 Axes>"
      ]
     },
     "metadata": {},
     "output_type": "display_data"
    }
   ],
   "source": [
    "import matplotlib.pyplot as plt\n",
    "labels = ['Good', 'Moderate', 'Unhealthy for Sensitive Groups', 'Unhealthy', 'Very Unhealthy', 'Hazardous']\n",
    "plt.figure(figsize=(7,4))\n",
    "sns.heatmap(confusion_matrix, annot=True,xticklabels=labels, yticklabels=labels)\n",
    "plt.title(\"Confusion matrix\")\n",
    "plt.ylabel(\"True label\")\n",
    "plt.xlabel('Predicted label')\n",
    "plt.show()"
   ]
  }
 ],
 "metadata": {
  "kernelspec": {
   "display_name": "Python 3 (ipykernel)",
   "language": "python",
   "name": "python3"
  },
  "language_info": {
   "codemirror_mode": {
    "name": "ipython",
    "version": 3
   },
   "file_extension": ".py",
   "mimetype": "text/x-python",
   "name": "python",
   "nbconvert_exporter": "python",
   "pygments_lexer": "ipython3",
   "version": "3.10.1"
  }
 },
 "nbformat": 4,
 "nbformat_minor": 5
}
