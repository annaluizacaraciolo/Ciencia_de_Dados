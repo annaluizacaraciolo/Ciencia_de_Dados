{
  "nbformat": 4,
  "nbformat_minor": 0,
  "metadata": {
    "colab": {
      "name": "Projeto1CienciaDados.ipynb",
      "provenance": [],
      "include_colab_link": true
    },
    "kernelspec": {
      "name": "python3",
      "display_name": "Python 3"
    },
    "language_info": {
      "name": "python"
    }
  },
  "cells": [
    {
      "cell_type": "markdown",
      "metadata": {
        "id": "view-in-github",
        "colab_type": "text"
      },
      "source": [
        "<a href=\"https://colab.research.google.com/github/annaluizacaraciolo/Ciencia_de_Dados/blob/main/Projeto1CienciaDados.ipynb\" target=\"_parent\"><img src=\"https://colab.research.google.com/assets/colab-badge.svg\" alt=\"Open In Colab\"/></a>"
      ]
    },
    {
      "cell_type": "markdown",
      "source": [
        "# Anáise de qualidade do ar dos EUA entre 1980-2021\n",
        "O dataset escolhido foi o 'US Air Quality 1980-Present', obitido através do Kaggle. O \"Air Quality Index\" (AQI) é o índice utilizado para medir a qualidade do ar, variando de 0 a 500. "
      ],
      "metadata": {
        "id": "8QyTgmdFPbl4"
      }
    },
    {
      "cell_type": "markdown",
      "source": [
        "## Download do dataset\n",
        "\n"
      ],
      "metadata": {
        "id": "S8b-5fKVPel8"
      }
    },
    {
      "cell_type": "code",
      "execution_count": null,
      "metadata": {
        "id": "lSDrE9mdLxaf"
      },
      "outputs": [],
      "source": [
        "! pip install -q kaggle"
      ]
    },
    {
      "cell_type": "code",
      "source": [
        "from google.colab import files\n",
        "files.upload()"
      ],
      "metadata": {
        "colab": {
          "resources": {
            "http://localhost:8080/nbextensions/google.colab/files.js": {
              "data": "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",
              "ok": true,
              "headers": [
                [
                  "content-type",
                  "application/javascript"
                ]
              ],
              "status": 200,
              "status_text": ""
            }
          },
          "base_uri": "https://localhost:8080/",
          "height": 90
        },
        "id": "F-K4ceSoM8an",
        "outputId": "ac7e2ddd-f30a-4b9b-8361-44ab0243706e"
      },
      "execution_count": null,
      "outputs": [
        {
          "output_type": "display_data",
          "data": {
            "text/plain": [
              "<IPython.core.display.HTML object>"
            ],
            "text/html": [
              "\n",
              "     <input type=\"file\" id=\"files-15d04645-8239-4905-987d-b633a5a2d423\" name=\"files[]\" multiple disabled\n",
              "        style=\"border:none\" />\n",
              "     <output id=\"result-15d04645-8239-4905-987d-b633a5a2d423\">\n",
              "      Upload widget is only available when the cell has been executed in the\n",
              "      current browser session. Please rerun this cell to enable.\n",
              "      </output>\n",
              "      <script src=\"/nbextensions/google.colab/files.js\"></script> "
            ]
          },
          "metadata": {}
        },
        {
          "output_type": "stream",
          "name": "stdout",
          "text": [
            "Saving kaggle.json to kaggle.json\n"
          ]
        },
        {
          "output_type": "execute_result",
          "data": {
            "text/plain": [
              "{'kaggle.json': b'{\"username\":\"annaluiza\",\"key\":\"55026d89e31cbc472fcedfb11362c3ac\"}'}"
            ]
          },
          "metadata": {},
          "execution_count": 2
        }
      ]
    },
    {
      "cell_type": "code",
      "source": [
        "! mkdir ~/.kaggle"
      ],
      "metadata": {
        "id": "-aOc_gl-NCO5"
      },
      "execution_count": null,
      "outputs": []
    },
    {
      "cell_type": "code",
      "source": [
        "! cp kaggle.json ~/.kaggle/"
      ],
      "metadata": {
        "id": "igw8kWksNGFx"
      },
      "execution_count": null,
      "outputs": []
    },
    {
      "cell_type": "code",
      "source": [
        "! chmod 600 ~/.kaggle/kaggle.json"
      ],
      "metadata": {
        "id": "QKeMIrheNMEq"
      },
      "execution_count": null,
      "outputs": []
    },
    {
      "cell_type": "code",
      "source": [
        "# Download data\n",
        "! kaggle datasets download calebreigada/us-air-quality-1980present"
      ],
      "metadata": {
        "colab": {
          "base_uri": "https://localhost:8080/"
        },
        "id": "-7vmZjl6NOnJ",
        "outputId": "72f04a5c-3875-4f9e-9cf9-85614c7aee2b"
      },
      "execution_count": null,
      "outputs": [
        {
          "output_type": "stream",
          "name": "stdout",
          "text": [
            "Downloading us-air-quality-1980present.zip to /content\n",
            " 80% 33.0M/41.0M [00:00<00:00, 66.6MB/s]\n",
            "100% 41.0M/41.0M [00:00<00:00, 74.3MB/s]\n"
          ]
        }
      ]
    },
    {
      "cell_type": "code",
      "source": [
        "# unzip data\n",
        "!unzip us-air-quality-1980present"
      ],
      "metadata": {
        "colab": {
          "base_uri": "https://localhost:8080/"
        },
        "id": "_hAVgMYJPcJn",
        "outputId": "ca4e21af-9b7c-4997-9b4c-f9fd3ab31ccb"
      },
      "execution_count": null,
      "outputs": [
        {
          "output_type": "stream",
          "name": "stdout",
          "text": [
            "Archive:  us-air-quality-1980present.zip\n",
            "  inflating: US_AQI.csv              \n"
          ]
        }
      ]
    },
    {
      "cell_type": "code",
      "source": [
        "import pandas as pd\n",
        "\n",
        "data = pd.read_csv('US_AQI.csv')\n",
        "data"
      ],
      "metadata": {
        "colab": {
          "base_uri": "https://localhost:8080/",
          "height": 696
        },
        "id": "om2DDHgyPsC3",
        "outputId": "35e56ece-c79e-4fab-a6d8-dc01be1221b7"
      },
      "execution_count": null,
      "outputs": [
        {
          "output_type": "execute_result",
          "data": {
            "text/plain": [
              "         Unnamed: 0  CBSA Code        Date  AQI  Category Defining Parameter  \\\n",
              "0                 0      10140  2022-01-01   21      Good              PM2.5   \n",
              "1                 1      10140  2022-01-02   12      Good              PM2.5   \n",
              "2                 2      10140  2022-01-03   18      Good              PM2.5   \n",
              "3                 3      10140  2022-01-04   19      Good              PM2.5   \n",
              "4                 4      10140  2022-01-05   17      Good              PM2.5   \n",
              "...             ...        ...         ...  ...       ...                ...   \n",
              "5617320     5718366      49740  1980-12-27   52  Moderate                 CO   \n",
              "5617321     5718367      49740  1980-12-28   52  Moderate                 CO   \n",
              "5617322     5718368      49740  1980-12-29   24      Good                 CO   \n",
              "5617323     5718369      49740  1980-12-30   14      Good                 CO   \n",
              "5617324     5718370      49740  1980-12-31   24      Good                 CO   \n",
              "\n",
              "         Number of Sites Reporting city_ascii state_id  state_name      lat  \\\n",
              "0                                2   Aberdeen       WA  Washington  46.9757   \n",
              "1                                2   Aberdeen       WA  Washington  46.9757   \n",
              "2                                2   Aberdeen       WA  Washington  46.9757   \n",
              "3                                2   Aberdeen       WA  Washington  46.9757   \n",
              "4                                2   Aberdeen       WA  Washington  46.9757   \n",
              "...                            ...        ...      ...         ...      ...   \n",
              "5617320                          1       Yuma       AZ     Arizona  32.5995   \n",
              "5617321                          1       Yuma       AZ     Arizona  32.5995   \n",
              "5617322                          1       Yuma       AZ     Arizona  32.5995   \n",
              "5617323                          1       Yuma       AZ     Arizona  32.5995   \n",
              "5617324                          1       Yuma       AZ     Arizona  32.5995   \n",
              "\n",
              "              lng  population  density             timezone  \n",
              "0       -123.8094     16571.0    588.0  America/Los_Angeles  \n",
              "1       -123.8094     16571.0    588.0  America/Los_Angeles  \n",
              "2       -123.8094     16571.0    588.0  America/Los_Angeles  \n",
              "3       -123.8094     16571.0    588.0  America/Los_Angeles  \n",
              "4       -123.8094     16571.0    588.0  America/Los_Angeles  \n",
              "...           ...         ...      ...                  ...  \n",
              "5617320 -114.5491    137612.0    311.0      America/Phoenix  \n",
              "5617321 -114.5491    137612.0    311.0      America/Phoenix  \n",
              "5617322 -114.5491    137612.0    311.0      America/Phoenix  \n",
              "5617323 -114.5491    137612.0    311.0      America/Phoenix  \n",
              "5617324 -114.5491    137612.0    311.0      America/Phoenix  \n",
              "\n",
              "[5617325 rows x 15 columns]"
            ],
            "text/html": [
              "\n",
              "  <div id=\"df-cb12b04c-8c20-4639-9b67-809b2fd8880e\">\n",
              "    <div class=\"colab-df-container\">\n",
              "      <div>\n",
              "<style scoped>\n",
              "    .dataframe tbody tr th:only-of-type {\n",
              "        vertical-align: middle;\n",
              "    }\n",
              "\n",
              "    .dataframe tbody tr th {\n",
              "        vertical-align: top;\n",
              "    }\n",
              "\n",
              "    .dataframe thead th {\n",
              "        text-align: right;\n",
              "    }\n",
              "</style>\n",
              "<table border=\"1\" class=\"dataframe\">\n",
              "  <thead>\n",
              "    <tr style=\"text-align: right;\">\n",
              "      <th></th>\n",
              "      <th>Unnamed: 0</th>\n",
              "      <th>CBSA Code</th>\n",
              "      <th>Date</th>\n",
              "      <th>AQI</th>\n",
              "      <th>Category</th>\n",
              "      <th>Defining Parameter</th>\n",
              "      <th>Number of Sites Reporting</th>\n",
              "      <th>city_ascii</th>\n",
              "      <th>state_id</th>\n",
              "      <th>state_name</th>\n",
              "      <th>lat</th>\n",
              "      <th>lng</th>\n",
              "      <th>population</th>\n",
              "      <th>density</th>\n",
              "      <th>timezone</th>\n",
              "    </tr>\n",
              "  </thead>\n",
              "  <tbody>\n",
              "    <tr>\n",
              "      <th>0</th>\n",
              "      <td>0</td>\n",
              "      <td>10140</td>\n",
              "      <td>2022-01-01</td>\n",
              "      <td>21</td>\n",
              "      <td>Good</td>\n",
              "      <td>PM2.5</td>\n",
              "      <td>2</td>\n",
              "      <td>Aberdeen</td>\n",
              "      <td>WA</td>\n",
              "      <td>Washington</td>\n",
              "      <td>46.9757</td>\n",
              "      <td>-123.8094</td>\n",
              "      <td>16571.0</td>\n",
              "      <td>588.0</td>\n",
              "      <td>America/Los_Angeles</td>\n",
              "    </tr>\n",
              "    <tr>\n",
              "      <th>1</th>\n",
              "      <td>1</td>\n",
              "      <td>10140</td>\n",
              "      <td>2022-01-02</td>\n",
              "      <td>12</td>\n",
              "      <td>Good</td>\n",
              "      <td>PM2.5</td>\n",
              "      <td>2</td>\n",
              "      <td>Aberdeen</td>\n",
              "      <td>WA</td>\n",
              "      <td>Washington</td>\n",
              "      <td>46.9757</td>\n",
              "      <td>-123.8094</td>\n",
              "      <td>16571.0</td>\n",
              "      <td>588.0</td>\n",
              "      <td>America/Los_Angeles</td>\n",
              "    </tr>\n",
              "    <tr>\n",
              "      <th>2</th>\n",
              "      <td>2</td>\n",
              "      <td>10140</td>\n",
              "      <td>2022-01-03</td>\n",
              "      <td>18</td>\n",
              "      <td>Good</td>\n",
              "      <td>PM2.5</td>\n",
              "      <td>2</td>\n",
              "      <td>Aberdeen</td>\n",
              "      <td>WA</td>\n",
              "      <td>Washington</td>\n",
              "      <td>46.9757</td>\n",
              "      <td>-123.8094</td>\n",
              "      <td>16571.0</td>\n",
              "      <td>588.0</td>\n",
              "      <td>America/Los_Angeles</td>\n",
              "    </tr>\n",
              "    <tr>\n",
              "      <th>3</th>\n",
              "      <td>3</td>\n",
              "      <td>10140</td>\n",
              "      <td>2022-01-04</td>\n",
              "      <td>19</td>\n",
              "      <td>Good</td>\n",
              "      <td>PM2.5</td>\n",
              "      <td>2</td>\n",
              "      <td>Aberdeen</td>\n",
              "      <td>WA</td>\n",
              "      <td>Washington</td>\n",
              "      <td>46.9757</td>\n",
              "      <td>-123.8094</td>\n",
              "      <td>16571.0</td>\n",
              "      <td>588.0</td>\n",
              "      <td>America/Los_Angeles</td>\n",
              "    </tr>\n",
              "    <tr>\n",
              "      <th>4</th>\n",
              "      <td>4</td>\n",
              "      <td>10140</td>\n",
              "      <td>2022-01-05</td>\n",
              "      <td>17</td>\n",
              "      <td>Good</td>\n",
              "      <td>PM2.5</td>\n",
              "      <td>2</td>\n",
              "      <td>Aberdeen</td>\n",
              "      <td>WA</td>\n",
              "      <td>Washington</td>\n",
              "      <td>46.9757</td>\n",
              "      <td>-123.8094</td>\n",
              "      <td>16571.0</td>\n",
              "      <td>588.0</td>\n",
              "      <td>America/Los_Angeles</td>\n",
              "    </tr>\n",
              "    <tr>\n",
              "      <th>...</th>\n",
              "      <td>...</td>\n",
              "      <td>...</td>\n",
              "      <td>...</td>\n",
              "      <td>...</td>\n",
              "      <td>...</td>\n",
              "      <td>...</td>\n",
              "      <td>...</td>\n",
              "      <td>...</td>\n",
              "      <td>...</td>\n",
              "      <td>...</td>\n",
              "      <td>...</td>\n",
              "      <td>...</td>\n",
              "      <td>...</td>\n",
              "      <td>...</td>\n",
              "      <td>...</td>\n",
              "    </tr>\n",
              "    <tr>\n",
              "      <th>5617320</th>\n",
              "      <td>5718366</td>\n",
              "      <td>49740</td>\n",
              "      <td>1980-12-27</td>\n",
              "      <td>52</td>\n",
              "      <td>Moderate</td>\n",
              "      <td>CO</td>\n",
              "      <td>1</td>\n",
              "      <td>Yuma</td>\n",
              "      <td>AZ</td>\n",
              "      <td>Arizona</td>\n",
              "      <td>32.5995</td>\n",
              "      <td>-114.5491</td>\n",
              "      <td>137612.0</td>\n",
              "      <td>311.0</td>\n",
              "      <td>America/Phoenix</td>\n",
              "    </tr>\n",
              "    <tr>\n",
              "      <th>5617321</th>\n",
              "      <td>5718367</td>\n",
              "      <td>49740</td>\n",
              "      <td>1980-12-28</td>\n",
              "      <td>52</td>\n",
              "      <td>Moderate</td>\n",
              "      <td>CO</td>\n",
              "      <td>1</td>\n",
              "      <td>Yuma</td>\n",
              "      <td>AZ</td>\n",
              "      <td>Arizona</td>\n",
              "      <td>32.5995</td>\n",
              "      <td>-114.5491</td>\n",
              "      <td>137612.0</td>\n",
              "      <td>311.0</td>\n",
              "      <td>America/Phoenix</td>\n",
              "    </tr>\n",
              "    <tr>\n",
              "      <th>5617322</th>\n",
              "      <td>5718368</td>\n",
              "      <td>49740</td>\n",
              "      <td>1980-12-29</td>\n",
              "      <td>24</td>\n",
              "      <td>Good</td>\n",
              "      <td>CO</td>\n",
              "      <td>1</td>\n",
              "      <td>Yuma</td>\n",
              "      <td>AZ</td>\n",
              "      <td>Arizona</td>\n",
              "      <td>32.5995</td>\n",
              "      <td>-114.5491</td>\n",
              "      <td>137612.0</td>\n",
              "      <td>311.0</td>\n",
              "      <td>America/Phoenix</td>\n",
              "    </tr>\n",
              "    <tr>\n",
              "      <th>5617323</th>\n",
              "      <td>5718369</td>\n",
              "      <td>49740</td>\n",
              "      <td>1980-12-30</td>\n",
              "      <td>14</td>\n",
              "      <td>Good</td>\n",
              "      <td>CO</td>\n",
              "      <td>1</td>\n",
              "      <td>Yuma</td>\n",
              "      <td>AZ</td>\n",
              "      <td>Arizona</td>\n",
              "      <td>32.5995</td>\n",
              "      <td>-114.5491</td>\n",
              "      <td>137612.0</td>\n",
              "      <td>311.0</td>\n",
              "      <td>America/Phoenix</td>\n",
              "    </tr>\n",
              "    <tr>\n",
              "      <th>5617324</th>\n",
              "      <td>5718370</td>\n",
              "      <td>49740</td>\n",
              "      <td>1980-12-31</td>\n",
              "      <td>24</td>\n",
              "      <td>Good</td>\n",
              "      <td>CO</td>\n",
              "      <td>1</td>\n",
              "      <td>Yuma</td>\n",
              "      <td>AZ</td>\n",
              "      <td>Arizona</td>\n",
              "      <td>32.5995</td>\n",
              "      <td>-114.5491</td>\n",
              "      <td>137612.0</td>\n",
              "      <td>311.0</td>\n",
              "      <td>America/Phoenix</td>\n",
              "    </tr>\n",
              "  </tbody>\n",
              "</table>\n",
              "<p>5617325 rows × 15 columns</p>\n",
              "</div>\n",
              "      <button class=\"colab-df-convert\" onclick=\"convertToInteractive('df-cb12b04c-8c20-4639-9b67-809b2fd8880e')\"\n",
              "              title=\"Convert this dataframe to an interactive table.\"\n",
              "              style=\"display:none;\">\n",
              "        \n",
              "  <svg xmlns=\"http://www.w3.org/2000/svg\" height=\"24px\"viewBox=\"0 0 24 24\"\n",
              "       width=\"24px\">\n",
              "    <path d=\"M0 0h24v24H0V0z\" fill=\"none\"/>\n",
              "    <path d=\"M18.56 5.44l.94 2.06.94-2.06 2.06-.94-2.06-.94-.94-2.06-.94 2.06-2.06.94zm-11 1L8.5 8.5l.94-2.06 2.06-.94-2.06-.94L8.5 2.5l-.94 2.06-2.06.94zm10 10l.94 2.06.94-2.06 2.06-.94-2.06-.94-.94-2.06-.94 2.06-2.06.94z\"/><path d=\"M17.41 7.96l-1.37-1.37c-.4-.4-.92-.59-1.43-.59-.52 0-1.04.2-1.43.59L10.3 9.45l-7.72 7.72c-.78.78-.78 2.05 0 2.83L4 21.41c.39.39.9.59 1.41.59.51 0 1.02-.2 1.41-.59l7.78-7.78 2.81-2.81c.8-.78.8-2.07 0-2.86zM5.41 20L4 18.59l7.72-7.72 1.47 1.35L5.41 20z\"/>\n",
              "  </svg>\n",
              "      </button>\n",
              "      \n",
              "  <style>\n",
              "    .colab-df-container {\n",
              "      display:flex;\n",
              "      flex-wrap:wrap;\n",
              "      gap: 12px;\n",
              "    }\n",
              "\n",
              "    .colab-df-convert {\n",
              "      background-color: #E8F0FE;\n",
              "      border: none;\n",
              "      border-radius: 50%;\n",
              "      cursor: pointer;\n",
              "      display: none;\n",
              "      fill: #1967D2;\n",
              "      height: 32px;\n",
              "      padding: 0 0 0 0;\n",
              "      width: 32px;\n",
              "    }\n",
              "\n",
              "    .colab-df-convert:hover {\n",
              "      background-color: #E2EBFA;\n",
              "      box-shadow: 0px 1px 2px rgba(60, 64, 67, 0.3), 0px 1px 3px 1px rgba(60, 64, 67, 0.15);\n",
              "      fill: #174EA6;\n",
              "    }\n",
              "\n",
              "    [theme=dark] .colab-df-convert {\n",
              "      background-color: #3B4455;\n",
              "      fill: #D2E3FC;\n",
              "    }\n",
              "\n",
              "    [theme=dark] .colab-df-convert:hover {\n",
              "      background-color: #434B5C;\n",
              "      box-shadow: 0px 1px 3px 1px rgba(0, 0, 0, 0.15);\n",
              "      filter: drop-shadow(0px 1px 2px rgba(0, 0, 0, 0.3));\n",
              "      fill: #FFFFFF;\n",
              "    }\n",
              "  </style>\n",
              "\n",
              "      <script>\n",
              "        const buttonEl =\n",
              "          document.querySelector('#df-cb12b04c-8c20-4639-9b67-809b2fd8880e button.colab-df-convert');\n",
              "        buttonEl.style.display =\n",
              "          google.colab.kernel.accessAllowed ? 'block' : 'none';\n",
              "\n",
              "        async function convertToInteractive(key) {\n",
              "          const element = document.querySelector('#df-cb12b04c-8c20-4639-9b67-809b2fd8880e');\n",
              "          const dataTable =\n",
              "            await google.colab.kernel.invokeFunction('convertToInteractive',\n",
              "                                                     [key], {});\n",
              "          if (!dataTable) return;\n",
              "\n",
              "          const docLinkHtml = 'Like what you see? Visit the ' +\n",
              "            '<a target=\"_blank\" href=https://colab.research.google.com/notebooks/data_table.ipynb>data table notebook</a>'\n",
              "            + ' to learn more about interactive tables.';\n",
              "          element.innerHTML = '';\n",
              "          dataTable['output_type'] = 'display_data';\n",
              "          await google.colab.output.renderOutput(dataTable, element);\n",
              "          const docLink = document.createElement('div');\n",
              "          docLink.innerHTML = docLinkHtml;\n",
              "          element.appendChild(docLink);\n",
              "        }\n",
              "      </script>\n",
              "    </div>\n",
              "  </div>\n",
              "  "
            ]
          },
          "metadata": {},
          "execution_count": 9
        }
      ]
    },
    {
      "cell_type": "markdown",
      "source": [
        "## Pré processamento dos dados"
      ],
      "metadata": {
        "id": "XyZoJAOxSFXo"
      }
    },
    {
      "cell_type": "code",
      "source": [
        "# Drop de colunas que não são relevantes \n",
        "# não rodar duas vezes, já que não se pode deletar o que já foi deletado\n",
        "del data['state_id']\n",
        "del data['timezone']\n",
        "# data"
      ],
      "metadata": {
        "id": "vVu0ZcorQQzs"
      },
      "execution_count": null,
      "outputs": []
    },
    {
      "cell_type": "code",
      "source": [
        "# criando dataframe com as linhas dos estados sob análise\n",
        "df1 = data.query(\"state_name == 'Arizona'\")\n",
        "df2 = data.query(\"state_name == 'Hawaii'\")\n",
        "df3 = data.query(\"state_name == 'Tenessee'\")\n",
        "df4 = data.query(\"state_name == 'California'\")\n",
        "df5 = data.query(\"state_name == 'Texas'\")\n",
        "df6 = data.query(\"state_name == 'Pennsylvania'\")\n",
        "df7 = data.query(\"state_name == 'Alaska'\")\n",
        "df8 = data.query(\"state_name == 'Utah'\")\n",
        "df9 = data.query(\"state_name == 'Colorado'\")\n",
        "df10 = data.query(\"state_name == 'New York'\")\n"
      ],
      "metadata": {
        "id": "az3g5NfQUcEg"
      },
      "execution_count": null,
      "outputs": []
    },
    {
      "cell_type": "code",
      "source": [
        "frames = [df1, df2, df3, df4, df5, df6, df7, df8, df9, df10]\n",
        "df = pd.concat(frames)"
      ],
      "metadata": {
        "id": "8D2dWX6JWQ8N"
      },
      "execution_count": null,
      "outputs": []
    },
    {
      "cell_type": "code",
      "source": [
        "df.reset_index()"
      ],
      "metadata": {
        "colab": {
          "base_uri": "https://localhost:8080/",
          "height": 676
        },
        "id": "iNa1QjO_WcBs",
        "outputId": "8b19d16f-b653-4f65-f17e-96a7e6a43cc2"
      },
      "execution_count": null,
      "outputs": [
        {
          "output_type": "execute_result",
          "data": {
            "text/plain": [
              "           index  Unnamed: 0  CBSA Code        Date  AQI Category  \\\n",
              "0           8001        8084      22380  2022-01-01   43     Good   \n",
              "1           8002        8085      22380  2022-01-02   42     Good   \n",
              "2           8003        8086      22380  2022-01-03   43     Good   \n",
              "3           8004        8087      22380  2022-01-04   42     Good   \n",
              "4           8005        8088      22380  2022-01-05   43     Good   \n",
              "...          ...         ...        ...         ...  ...      ...   \n",
              "1543994  5611291     5712019      46540  1980-12-27   17     Good   \n",
              "1543995  5611292     5712020      46540  1980-12-28   21     Good   \n",
              "1543996  5611293     5712021      46540  1980-12-29   27     Good   \n",
              "1543997  5611294     5712022      46540  1980-12-30   23     Good   \n",
              "1543998  5611295     5712023      46540  1980-12-31   18     Good   \n",
              "\n",
              "        Defining Parameter  Number of Sites Reporting city_ascii state_name  \\\n",
              "0                    Ozone                          1  Flagstaff    Arizona   \n",
              "1                    Ozone                          2  Flagstaff    Arizona   \n",
              "2                    Ozone                          2  Flagstaff    Arizona   \n",
              "3                    Ozone                          2  Flagstaff    Arizona   \n",
              "4                    Ozone                          2  Flagstaff    Arizona   \n",
              "...                    ...                        ...        ...        ...   \n",
              "1543994                 CO                          2      Utica   New York   \n",
              "1543995              Ozone                          2      Utica   New York   \n",
              "1543996                 CO                          2      Utica   New York   \n",
              "1543997                 CO                          2      Utica   New York   \n",
              "1543998              Ozone                          2      Utica   New York   \n",
              "\n",
              "             lat       lng  population  density  \n",
              "0        35.1872 -111.6194     79624.0    428.0  \n",
              "1        35.1872 -111.6194     79624.0    428.0  \n",
              "2        35.1872 -111.6194     79624.0    428.0  \n",
              "3        35.1872 -111.6194     79624.0    428.0  \n",
              "4        35.1872 -111.6194     79624.0    428.0  \n",
              "...          ...       ...         ...      ...  \n",
              "1543994  43.0962  -75.2261    112948.0   1384.0  \n",
              "1543995  43.0962  -75.2261    112948.0   1384.0  \n",
              "1543996  43.0962  -75.2261    112948.0   1384.0  \n",
              "1543997  43.0962  -75.2261    112948.0   1384.0  \n",
              "1543998  43.0962  -75.2261    112948.0   1384.0  \n",
              "\n",
              "[1543999 rows x 14 columns]"
            ],
            "text/html": [
              "\n",
              "  <div id=\"df-8a7d1097-876d-4bd5-b310-6fa7d54d1b84\">\n",
              "    <div class=\"colab-df-container\">\n",
              "      <div>\n",
              "<style scoped>\n",
              "    .dataframe tbody tr th:only-of-type {\n",
              "        vertical-align: middle;\n",
              "    }\n",
              "\n",
              "    .dataframe tbody tr th {\n",
              "        vertical-align: top;\n",
              "    }\n",
              "\n",
              "    .dataframe thead th {\n",
              "        text-align: right;\n",
              "    }\n",
              "</style>\n",
              "<table border=\"1\" class=\"dataframe\">\n",
              "  <thead>\n",
              "    <tr style=\"text-align: right;\">\n",
              "      <th></th>\n",
              "      <th>index</th>\n",
              "      <th>Unnamed: 0</th>\n",
              "      <th>CBSA Code</th>\n",
              "      <th>Date</th>\n",
              "      <th>AQI</th>\n",
              "      <th>Category</th>\n",
              "      <th>Defining Parameter</th>\n",
              "      <th>Number of Sites Reporting</th>\n",
              "      <th>city_ascii</th>\n",
              "      <th>state_name</th>\n",
              "      <th>lat</th>\n",
              "      <th>lng</th>\n",
              "      <th>population</th>\n",
              "      <th>density</th>\n",
              "    </tr>\n",
              "  </thead>\n",
              "  <tbody>\n",
              "    <tr>\n",
              "      <th>0</th>\n",
              "      <td>8001</td>\n",
              "      <td>8084</td>\n",
              "      <td>22380</td>\n",
              "      <td>2022-01-01</td>\n",
              "      <td>43</td>\n",
              "      <td>Good</td>\n",
              "      <td>Ozone</td>\n",
              "      <td>1</td>\n",
              "      <td>Flagstaff</td>\n",
              "      <td>Arizona</td>\n",
              "      <td>35.1872</td>\n",
              "      <td>-111.6194</td>\n",
              "      <td>79624.0</td>\n",
              "      <td>428.0</td>\n",
              "    </tr>\n",
              "    <tr>\n",
              "      <th>1</th>\n",
              "      <td>8002</td>\n",
              "      <td>8085</td>\n",
              "      <td>22380</td>\n",
              "      <td>2022-01-02</td>\n",
              "      <td>42</td>\n",
              "      <td>Good</td>\n",
              "      <td>Ozone</td>\n",
              "      <td>2</td>\n",
              "      <td>Flagstaff</td>\n",
              "      <td>Arizona</td>\n",
              "      <td>35.1872</td>\n",
              "      <td>-111.6194</td>\n",
              "      <td>79624.0</td>\n",
              "      <td>428.0</td>\n",
              "    </tr>\n",
              "    <tr>\n",
              "      <th>2</th>\n",
              "      <td>8003</td>\n",
              "      <td>8086</td>\n",
              "      <td>22380</td>\n",
              "      <td>2022-01-03</td>\n",
              "      <td>43</td>\n",
              "      <td>Good</td>\n",
              "      <td>Ozone</td>\n",
              "      <td>2</td>\n",
              "      <td>Flagstaff</td>\n",
              "      <td>Arizona</td>\n",
              "      <td>35.1872</td>\n",
              "      <td>-111.6194</td>\n",
              "      <td>79624.0</td>\n",
              "      <td>428.0</td>\n",
              "    </tr>\n",
              "    <tr>\n",
              "      <th>3</th>\n",
              "      <td>8004</td>\n",
              "      <td>8087</td>\n",
              "      <td>22380</td>\n",
              "      <td>2022-01-04</td>\n",
              "      <td>42</td>\n",
              "      <td>Good</td>\n",
              "      <td>Ozone</td>\n",
              "      <td>2</td>\n",
              "      <td>Flagstaff</td>\n",
              "      <td>Arizona</td>\n",
              "      <td>35.1872</td>\n",
              "      <td>-111.6194</td>\n",
              "      <td>79624.0</td>\n",
              "      <td>428.0</td>\n",
              "    </tr>\n",
              "    <tr>\n",
              "      <th>4</th>\n",
              "      <td>8005</td>\n",
              "      <td>8088</td>\n",
              "      <td>22380</td>\n",
              "      <td>2022-01-05</td>\n",
              "      <td>43</td>\n",
              "      <td>Good</td>\n",
              "      <td>Ozone</td>\n",
              "      <td>2</td>\n",
              "      <td>Flagstaff</td>\n",
              "      <td>Arizona</td>\n",
              "      <td>35.1872</td>\n",
              "      <td>-111.6194</td>\n",
              "      <td>79624.0</td>\n",
              "      <td>428.0</td>\n",
              "    </tr>\n",
              "    <tr>\n",
              "      <th>...</th>\n",
              "      <td>...</td>\n",
              "      <td>...</td>\n",
              "      <td>...</td>\n",
              "      <td>...</td>\n",
              "      <td>...</td>\n",
              "      <td>...</td>\n",
              "      <td>...</td>\n",
              "      <td>...</td>\n",
              "      <td>...</td>\n",
              "      <td>...</td>\n",
              "      <td>...</td>\n",
              "      <td>...</td>\n",
              "      <td>...</td>\n",
              "      <td>...</td>\n",
              "    </tr>\n",
              "    <tr>\n",
              "      <th>1543994</th>\n",
              "      <td>5611291</td>\n",
              "      <td>5712019</td>\n",
              "      <td>46540</td>\n",
              "      <td>1980-12-27</td>\n",
              "      <td>17</td>\n",
              "      <td>Good</td>\n",
              "      <td>CO</td>\n",
              "      <td>2</td>\n",
              "      <td>Utica</td>\n",
              "      <td>New York</td>\n",
              "      <td>43.0962</td>\n",
              "      <td>-75.2261</td>\n",
              "      <td>112948.0</td>\n",
              "      <td>1384.0</td>\n",
              "    </tr>\n",
              "    <tr>\n",
              "      <th>1543995</th>\n",
              "      <td>5611292</td>\n",
              "      <td>5712020</td>\n",
              "      <td>46540</td>\n",
              "      <td>1980-12-28</td>\n",
              "      <td>21</td>\n",
              "      <td>Good</td>\n",
              "      <td>Ozone</td>\n",
              "      <td>2</td>\n",
              "      <td>Utica</td>\n",
              "      <td>New York</td>\n",
              "      <td>43.0962</td>\n",
              "      <td>-75.2261</td>\n",
              "      <td>112948.0</td>\n",
              "      <td>1384.0</td>\n",
              "    </tr>\n",
              "    <tr>\n",
              "      <th>1543996</th>\n",
              "      <td>5611293</td>\n",
              "      <td>5712021</td>\n",
              "      <td>46540</td>\n",
              "      <td>1980-12-29</td>\n",
              "      <td>27</td>\n",
              "      <td>Good</td>\n",
              "      <td>CO</td>\n",
              "      <td>2</td>\n",
              "      <td>Utica</td>\n",
              "      <td>New York</td>\n",
              "      <td>43.0962</td>\n",
              "      <td>-75.2261</td>\n",
              "      <td>112948.0</td>\n",
              "      <td>1384.0</td>\n",
              "    </tr>\n",
              "    <tr>\n",
              "      <th>1543997</th>\n",
              "      <td>5611294</td>\n",
              "      <td>5712022</td>\n",
              "      <td>46540</td>\n",
              "      <td>1980-12-30</td>\n",
              "      <td>23</td>\n",
              "      <td>Good</td>\n",
              "      <td>CO</td>\n",
              "      <td>2</td>\n",
              "      <td>Utica</td>\n",
              "      <td>New York</td>\n",
              "      <td>43.0962</td>\n",
              "      <td>-75.2261</td>\n",
              "      <td>112948.0</td>\n",
              "      <td>1384.0</td>\n",
              "    </tr>\n",
              "    <tr>\n",
              "      <th>1543998</th>\n",
              "      <td>5611295</td>\n",
              "      <td>5712023</td>\n",
              "      <td>46540</td>\n",
              "      <td>1980-12-31</td>\n",
              "      <td>18</td>\n",
              "      <td>Good</td>\n",
              "      <td>Ozone</td>\n",
              "      <td>2</td>\n",
              "      <td>Utica</td>\n",
              "      <td>New York</td>\n",
              "      <td>43.0962</td>\n",
              "      <td>-75.2261</td>\n",
              "      <td>112948.0</td>\n",
              "      <td>1384.0</td>\n",
              "    </tr>\n",
              "  </tbody>\n",
              "</table>\n",
              "<p>1543999 rows × 14 columns</p>\n",
              "</div>\n",
              "      <button class=\"colab-df-convert\" onclick=\"convertToInteractive('df-8a7d1097-876d-4bd5-b310-6fa7d54d1b84')\"\n",
              "              title=\"Convert this dataframe to an interactive table.\"\n",
              "              style=\"display:none;\">\n",
              "        \n",
              "  <svg xmlns=\"http://www.w3.org/2000/svg\" height=\"24px\"viewBox=\"0 0 24 24\"\n",
              "       width=\"24px\">\n",
              "    <path d=\"M0 0h24v24H0V0z\" fill=\"none\"/>\n",
              "    <path d=\"M18.56 5.44l.94 2.06.94-2.06 2.06-.94-2.06-.94-.94-2.06-.94 2.06-2.06.94zm-11 1L8.5 8.5l.94-2.06 2.06-.94-2.06-.94L8.5 2.5l-.94 2.06-2.06.94zm10 10l.94 2.06.94-2.06 2.06-.94-2.06-.94-.94-2.06-.94 2.06-2.06.94z\"/><path d=\"M17.41 7.96l-1.37-1.37c-.4-.4-.92-.59-1.43-.59-.52 0-1.04.2-1.43.59L10.3 9.45l-7.72 7.72c-.78.78-.78 2.05 0 2.83L4 21.41c.39.39.9.59 1.41.59.51 0 1.02-.2 1.41-.59l7.78-7.78 2.81-2.81c.8-.78.8-2.07 0-2.86zM5.41 20L4 18.59l7.72-7.72 1.47 1.35L5.41 20z\"/>\n",
              "  </svg>\n",
              "      </button>\n",
              "      \n",
              "  <style>\n",
              "    .colab-df-container {\n",
              "      display:flex;\n",
              "      flex-wrap:wrap;\n",
              "      gap: 12px;\n",
              "    }\n",
              "\n",
              "    .colab-df-convert {\n",
              "      background-color: #E8F0FE;\n",
              "      border: none;\n",
              "      border-radius: 50%;\n",
              "      cursor: pointer;\n",
              "      display: none;\n",
              "      fill: #1967D2;\n",
              "      height: 32px;\n",
              "      padding: 0 0 0 0;\n",
              "      width: 32px;\n",
              "    }\n",
              "\n",
              "    .colab-df-convert:hover {\n",
              "      background-color: #E2EBFA;\n",
              "      box-shadow: 0px 1px 2px rgba(60, 64, 67, 0.3), 0px 1px 3px 1px rgba(60, 64, 67, 0.15);\n",
              "      fill: #174EA6;\n",
              "    }\n",
              "\n",
              "    [theme=dark] .colab-df-convert {\n",
              "      background-color: #3B4455;\n",
              "      fill: #D2E3FC;\n",
              "    }\n",
              "\n",
              "    [theme=dark] .colab-df-convert:hover {\n",
              "      background-color: #434B5C;\n",
              "      box-shadow: 0px 1px 3px 1px rgba(0, 0, 0, 0.15);\n",
              "      filter: drop-shadow(0px 1px 2px rgba(0, 0, 0, 0.3));\n",
              "      fill: #FFFFFF;\n",
              "    }\n",
              "  </style>\n",
              "\n",
              "      <script>\n",
              "        const buttonEl =\n",
              "          document.querySelector('#df-8a7d1097-876d-4bd5-b310-6fa7d54d1b84 button.colab-df-convert');\n",
              "        buttonEl.style.display =\n",
              "          google.colab.kernel.accessAllowed ? 'block' : 'none';\n",
              "\n",
              "        async function convertToInteractive(key) {\n",
              "          const element = document.querySelector('#df-8a7d1097-876d-4bd5-b310-6fa7d54d1b84');\n",
              "          const dataTable =\n",
              "            await google.colab.kernel.invokeFunction('convertToInteractive',\n",
              "                                                     [key], {});\n",
              "          if (!dataTable) return;\n",
              "\n",
              "          const docLinkHtml = 'Like what you see? Visit the ' +\n",
              "            '<a target=\"_blank\" href=https://colab.research.google.com/notebooks/data_table.ipynb>data table notebook</a>'\n",
              "            + ' to learn more about interactive tables.';\n",
              "          element.innerHTML = '';\n",
              "          dataTable['output_type'] = 'display_data';\n",
              "          await google.colab.output.renderOutput(dataTable, element);\n",
              "          const docLink = document.createElement('div');\n",
              "          docLink.innerHTML = docLinkHtml;\n",
              "          element.appendChild(docLink);\n",
              "        }\n",
              "      </script>\n",
              "    </div>\n",
              "  </div>\n",
              "  "
            ]
          },
          "metadata": {},
          "execution_count": 13
        }
      ]
    },
    {
      "cell_type": "markdown",
      "source": [
        "### Setando campos como categóricos"
      ],
      "metadata": {
        "id": "IlJ0ymdMpd8Q"
      }
    },
    {
      "cell_type": "code",
      "source": [
        "df.dtypes"
      ],
      "metadata": {
        "colab": {
          "base_uri": "https://localhost:8080/"
        },
        "id": "yxf-3rm4pdk1",
        "outputId": "0e887d81-997b-40e3-ccc2-3ea69971a311"
      },
      "execution_count": null,
      "outputs": [
        {
          "output_type": "execute_result",
          "data": {
            "text/plain": [
              "Unnamed: 0                     int64\n",
              "CBSA Code                      int64\n",
              "Date                          object\n",
              "AQI                            int64\n",
              "Category                      object\n",
              "Defining Parameter            object\n",
              "Number of Sites Reporting      int64\n",
              "city_ascii                    object\n",
              "state_name                    object\n",
              "lat                          float64\n",
              "lng                          float64\n",
              "population                   float64\n",
              "density                      float64\n",
              "dtype: object"
            ]
          },
          "metadata": {},
          "execution_count": 14
        }
      ]
    },
    {
      "cell_type": "code",
      "source": [
        "# Ajustando os tipos \"object\" para tipo \"category\"\n",
        "df['Date'] = df['Date'].astype('category')\n",
        "df['Category'] = df['Category'].astype('category')\n",
        "df['Defining Parameter'] = df['Defining Parameter'].astype('category')\n",
        "df['city_ascii'] = df['city_ascii'].astype('category')\n",
        "df['state_name'] = df['state_name'].astype('category')"
      ],
      "metadata": {
        "id": "fBW9zJvNqPRz"
      },
      "execution_count": null,
      "outputs": []
    },
    {
      "cell_type": "code",
      "source": [
        "df.dtypes"
      ],
      "metadata": {
        "colab": {
          "base_uri": "https://localhost:8080/"
        },
        "id": "-KsKPSJGrQdQ",
        "outputId": "f5df29fd-1404-40e4-8904-a572176fbdce"
      },
      "execution_count": null,
      "outputs": [
        {
          "output_type": "execute_result",
          "data": {
            "text/plain": [
              "Unnamed: 0                      int64\n",
              "CBSA Code                       int64\n",
              "Date                         category\n",
              "AQI                             int64\n",
              "Category                     category\n",
              "Defining Parameter           category\n",
              "Number of Sites Reporting       int64\n",
              "city_ascii                   category\n",
              "state_name                   category\n",
              "lat                           float64\n",
              "lng                           float64\n",
              "population                    float64\n",
              "density                       float64\n",
              "dtype: object"
            ]
          },
          "metadata": {},
          "execution_count": 16
        }
      ]
    },
    {
      "cell_type": "code",
      "source": [
        ""
      ],
      "metadata": {
        "id": "ITXGymM7rQN2"
      },
      "execution_count": null,
      "outputs": []
    },
    {
      "cell_type": "markdown",
      "source": [
        "### Eliminando colunas com muitos valores vazios\n",
        "Não existem colunas com algum valor vazio, como verificado abaixo. Por não possuir missing data, não vamos utilizar algum algoritmo para imputação. "
      ],
      "metadata": {
        "id": "YaDqJheArs5W"
      }
    },
    {
      "cell_type": "code",
      "source": [
        "print(df.isnull().sum())"
      ],
      "metadata": {
        "colab": {
          "base_uri": "https://localhost:8080/"
        },
        "id": "rLPpfDrtrydM",
        "outputId": "ca8401f7-3e73-4561-e2e3-235c275b81e7"
      },
      "execution_count": null,
      "outputs": [
        {
          "output_type": "stream",
          "name": "stdout",
          "text": [
            "Unnamed: 0                   0\n",
            "CBSA Code                    0\n",
            "Date                         0\n",
            "AQI                          0\n",
            "Category                     0\n",
            "Defining Parameter           0\n",
            "Number of Sites Reporting    0\n",
            "city_ascii                   0\n",
            "state_name                   0\n",
            "lat                          0\n",
            "lng                          0\n",
            "population                   0\n",
            "density                      0\n",
            "dtype: int64\n"
          ]
        }
      ]
    },
    {
      "cell_type": "markdown",
      "source": [
        ""
      ],
      "metadata": {
        "id": "-W44NZ3IsN2I"
      }
    },
    {
      "cell_type": "markdown",
      "source": [
        "### Normalização\n",
        "A normalização é aplicada a dados numéricos que possuem escalas muito diferentes, pois isso pode levar a resultados dismórficos. No nosso dataframe, os dados numéricos são muitos e eles possuem escalas diferentes entre si."
      ],
      "metadata": {
        "id": "v18tt-BDsP-j"
      }
    },
    {
      "cell_type": "code",
      "source": [
        "# analisar qual informação procuramos e se precisamos fazer uma normalização\n",
        "# dos dados, pois perderemos nossos dados originais do df"
      ],
      "metadata": {
        "id": "qxIKAkXmtJDE"
      },
      "execution_count": null,
      "outputs": []
    },
    {
      "cell_type": "markdown",
      "source": [
        "### Discretizando"
      ],
      "metadata": {
        "id": "CzfwLLobtY0C"
      }
    },
    {
      "cell_type": "markdown",
      "source": [
        "### Detecção de outliers"
      ],
      "metadata": {
        "id": "aUz7gvPDJZ7t"
      }
    },
    {
      "cell_type": "markdown",
      "source": [
        "#### Removendo outliers com Z-Score robusto\n",
        "Vamos agora detectar os Outliers para o parâmetro de densidade doa ar.</br>\n",
        "<b>ATENÇÃO</b>: talvez seja mais interssante fazer do AQI."
      ],
      "metadata": {
        "id": "R7ei3S6WKMjH"
      }
    },
    {
      "cell_type": "code",
      "source": [
        "df['density'].describe()"
      ],
      "metadata": {
        "colab": {
          "base_uri": "https://localhost:8080/"
        },
        "id": "0B3e-HFeJZsS",
        "outputId": "40e44954-a982-4ee8-9a03-50a3425458fb"
      },
      "execution_count": null,
      "outputs": [
        {
          "output_type": "execute_result",
          "data": {
            "text/plain": [
              "count    1.543999e+06\n",
              "mean     1.499218e+03\n",
              "std      1.381451e+03\n",
              "min      4.000000e+00\n",
              "25%      7.190000e+02\n",
              "50%      1.250000e+03\n",
              "75%      1.786000e+03\n",
              "max      1.076800e+04\n",
              "Name: density, dtype: float64"
            ]
          },
          "metadata": {},
          "execution_count": 18
        }
      ]
    },
    {
      "cell_type": "code",
      "source": [
        "df['density'].plot.box()"
      ],
      "metadata": {
        "colab": {
          "base_uri": "https://localhost:8080/",
          "height": 282
        },
        "id": "kFiI1etXLNDx",
        "outputId": "beb78cf2-af68-4ad3-ee7a-4bfed3701b27"
      },
      "execution_count": null,
      "outputs": [
        {
          "output_type": "execute_result",
          "data": {
            "text/plain": [
              "<matplotlib.axes._subplots.AxesSubplot at 0x7f1f8169f250>"
            ]
          },
          "metadata": {},
          "execution_count": 19
        },
        {
          "output_type": "display_data",
          "data": {
            "text/plain": [
              "<Figure size 432x288 with 1 Axes>"
            ],
            "image/png": "[encoded data removed]"
          },
          "metadata": {
            "needs_background": "light"
          }
        }
      ]
    },
    {
      "cell_type": "code",
      "source": [
        "df['AQI'].describe()"
      ],
      "metadata": {
        "colab": {
          "base_uri": "https://localhost:8080/"
        },
        "id": "lg32txVACVxT",
        "outputId": "1058323c-067a-458a-bbdf-18b2eff9f294"
      },
      "execution_count": null,
      "outputs": [
        {
          "output_type": "execute_result",
          "data": {
            "text/plain": [
              "count    1.543999e+06\n",
              "mean     5.256483e+01\n",
              "std      5.137239e+01\n",
              "min      0.000000e+00\n",
              "25%      3.200000e+01\n",
              "50%      4.400000e+01\n",
              "75%      6.100000e+01\n",
              "max      2.064600e+04\n",
              "Name: AQI, dtype: float64"
            ]
          },
          "metadata": {},
          "execution_count": 28
        }
      ]
    },
    {
      "cell_type": "code",
      "source": [
        "import matplotlib.pyplot as plt\n",
        "plt.boxplot(df['AQI'])\n",
        "plt.axis([None, None, min(df['AQI']), max(df['AQI'])])\n",
        "plt.show()"
      ],
      "metadata": {
        "colab": {
          "base_uri": "https://localhost:8080/",
          "height": 265
        },
        "id": "0AIyhMu1_Nia",
        "outputId": "317522ed-0cc0-4dec-93da-8454aac76170"
      },
      "execution_count": null,
      "outputs": [
        {
          "output_type": "display_data",
          "data": {
            "text/plain": [
              "<Figure size 432x288 with 1 Axes>"
            ],
            "image/png": "[encoded data removed]"
          },
          "metadata": {
            "needs_background": "light"
          }
        }
      ]
    },
    {
      "cell_type": "markdown",
      "source": [
        "## Estatísticas descritivas"
      ],
      "metadata": {
        "id": "tc9OMv0yRY0w"
      }
    },
    {
      "cell_type": "code",
      "source": [
        "# Vamos verificar a frequência de observações por estado\n",
        "df['']"
      ],
      "metadata": {
        "id": "3sCnmBX4cSw0"
      },
      "execution_count": null,
      "outputs": []
    },
    {
      "cell_type": "markdown",
      "source": [
        "Vamos primeiro extrair valores de média, mediana e desvio padrão e plotar"
      ],
      "metadata": {
        "id": "x3XIR7XuWyLY"
      }
    },
    {
      "cell_type": "code",
      "source": [
        "# vamos calcular a média, mediana e desvio padrão para algumas das nossas features\n",
        "\n",
        "mediaAQI = df['AQI'].mean()\n",
        "medianaAQI = df['AQI'].median()\n",
        "sdAQI = df['AQI'].std()\n",
        "print(\" Média: {}\\n Mediana: {}\\n Desvio padrão: {}\\n\".format(mediaAQI, medianaAQI, sdAQI))"
      ],
      "metadata": {
        "id": "R7k45jCYR7SK",
        "colab": {
          "base_uri": "https://localhost:8080/"
        },
        "outputId": "1245cca4-8c0c-46f5-a307-aec71398b591"
      },
      "execution_count": null,
      "outputs": [
        {
          "output_type": "stream",
          "name": "stdout",
          "text": [
            " Média: 52.564830029034994\n",
            " Mediana: 44.0\n",
            " Desvio padrão: 51.37238904948967\n",
            "\n"
          ]
        }
      ]
    },
    {
      "cell_type": "markdown",
      "source": [
        "O gráfico abaixo nos indica que a média e mediana estão uniformes entre si, o que significa que a distribuição dos nossos dados é normal e provavelmente não contém outliers."
      ],
      "metadata": {
        "id": "G_ZbWCndc1n4"
      }
    },
    {
      "cell_type": "code",
      "source": [
        "df['AQI'].plot(kind='density', figsize=(10,10))\n",
        "\n",
        "plt.vlines(df['AQI'].mean(),\n",
        "           ymin=0,\n",
        "           ymax=2064,\n",
        "           linewidth=2);\n",
        "\n",
        "plt.vlines(df['AQI'].median(),\n",
        "           ymin = 0,\n",
        "           ymax=2064,\n",
        "           linewidth = 1,\n",
        "           color='red',);"
      ],
      "metadata": {
        "colab": {
          "base_uri": "https://localhost:8080/",
          "height": 592
        },
        "id": "LflFYeXvaijU",
        "outputId": "413629f2-ede3-434c-c4d8-bf3b3c64df62"
      },
      "execution_count": null,
      "outputs": [
        {
          "output_type": "display_data",
          "data": {
            "text/plain": [
              "<Figure size 720x720 with 1 Axes>"
            ],
            "image/png": "[encoded data removed]"
          },
          "metadata": {
            "needs_background": "light"
          }
        }
      ]
    },
    {
      "cell_type": "markdown",
      "source": [
        "## Teste de hipótese"
      ],
      "metadata": {
        "id": "OR3mo7qtR7j2"
      }
    }
  ]
}